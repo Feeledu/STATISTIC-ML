{
 "cells": [
  {
   "cell_type": "markdown",
   "metadata": {},
   "source": [
    "## FAVOUR ELEDU"
   ]
  },
  {
   "cell_type": "markdown",
   "metadata": {},
   "source": [
    "## Homework\n",
    "- Exercise 3 (p.198, Chap.5), 8 (p.200, Chap.5), 1 (p.259, Chap.6), 9 (p.263, Chap.6), 9 (p.299, Chap.7) and\n",
    "10 (p.300, Chap.7)."
   ]
  },
  {
   "cell_type": "markdown",
   "metadata": {},
   "source": [
    "## Chapter 5 - Exercise 3"
   ]
  },
  {
   "cell_type": "markdown",
   "metadata": {},
   "source": [
    "### part a"
   ]
  },
  {
   "cell_type": "markdown",
   "metadata": {},
   "source": [
    "This involves randomly dividing the set of observations into k groups, or folds, of approximately equal size. \n",
    "\n",
    "The first fold is treated as validation set, and the method is fit on the remaining k - 1 folds. The mean squared error, MSE, is then computed on the observations in the held - out fold. This procedure is repeated k times; each time, a different group of observations is treated as a validation\n",
    "set. "
   ]
  },
  {
   "cell_type": "markdown",
   "metadata": {},
   "source": [
    "### part b"
   ]
  },
  {
   "cell_type": "markdown",
   "metadata": {},
   "source": [
    "k-fold CV often gives more accurate estimates of the test error rate than LOOCV in terms of bias-variance trade-off and at the same time also has a computational advantage to LOOCV.\n",
    "\n",
    "Also, the validation estimate\n",
    "of the test error rate can be highly varied, depending on precisely\n",
    "which observations are included in the training set and which\n",
    "observations are included in the validation set.\n",
    "\n",
    "In the same way, LOOCV compared to normal CV has far less bias. For regular CV, only a subset of the observations—those\n",
    "that are included in the training set rather than in the validation\n",
    "set—are used to fit the model. Since statistical methods tend to perform\n",
    "worse when trained on fewer observations, this suggests that the\n",
    "validation set error rate may tend to overestimate the test error rate\n",
    "for the model fit on the entire data set, while in LOOCV, we repeatedly fit the statistical learning method using training sets that contain n − 1 observations,\n",
    "almost as many as are in the entire data set. This is in contrast to\n",
    "the CV approach, in which the training set is typically around\n",
    "half the size of the original data set. Consequently, the LOOCV approach\n",
    "tends not to overestimate the test error rate as much as the validation\n",
    "set approach does. Normal CV will yield different results when applied repeatedly due to randomness in the training/validation set splits, however, performing LOOCV multiple times will always yield the same results: there is no randomness in the training/validation\n",
    "set splits. "
   ]
  },
  {
   "cell_type": "markdown",
   "metadata": {},
   "source": [
    "## Chapter 5 - Exercise 8"
   ]
  },
  {
   "cell_type": "markdown",
   "metadata": {},
   "source": [
    "### part a"
   ]
  },
  {
   "cell_type": "code",
   "execution_count": 4,
   "metadata": {},
   "outputs": [
    {
     "data": {
      "text/html": [
       "<ol class=list-inline>\n",
       "\t<li>-0.626453810742332</li>\n",
       "\t<li>0.183643324222082</li>\n",
       "\t<li>-0.835628612410047</li>\n",
       "\t<li>1.59528080213779</li>\n",
       "\t<li>0.329507771815361</li>\n",
       "\t<li>-0.820468384118015</li>\n",
       "\t<li>0.487429052428485</li>\n",
       "\t<li>0.738324705129217</li>\n",
       "\t<li>0.575781351653492</li>\n",
       "\t<li>-0.305388387156356</li>\n",
       "\t<li>1.51178116845085</li>\n",
       "\t<li>0.389843236411431</li>\n",
       "\t<li>-0.621240580541804</li>\n",
       "\t<li>-2.2146998871775</li>\n",
       "\t<li>1.12493091814311</li>\n",
       "\t<li>-0.0449336090152309</li>\n",
       "\t<li>-0.0161902630989461</li>\n",
       "\t<li>0.943836210685299</li>\n",
       "\t<li>0.821221195098089</li>\n",
       "\t<li>0.593901321217509</li>\n",
       "\t<li>0.918977371608218</li>\n",
       "\t<li>0.782136300731067</li>\n",
       "\t<li>0.0745649833651906</li>\n",
       "\t<li>-1.98935169586337</li>\n",
       "\t<li>0.61982574789471</li>\n",
       "\t<li>-0.0561287395290008</li>\n",
       "\t<li>-0.155795506705329</li>\n",
       "\t<li>-1.47075238389927</li>\n",
       "\t<li>-0.47815005510862</li>\n",
       "\t<li>0.417941560199702</li>\n",
       "\t<li>1.35867955152904</li>\n",
       "\t<li>-0.102787727342996</li>\n",
       "\t<li>0.387671611559369</li>\n",
       "\t<li>-0.0538050405829051</li>\n",
       "\t<li>-1.37705955682861</li>\n",
       "\t<li>-0.41499456329968</li>\n",
       "\t<li>-0.394289953710349</li>\n",
       "\t<li>-0.0593133967111857</li>\n",
       "\t<li>1.10002537198388</li>\n",
       "\t<li>0.763175748457544</li>\n",
       "\t<li>-0.164523596253587</li>\n",
       "\t<li>-0.253361680136508</li>\n",
       "\t<li>0.696963375404737</li>\n",
       "\t<li>0.556663198673657</li>\n",
       "\t<li>-0.68875569454952</li>\n",
       "\t<li>-0.70749515696212</li>\n",
       "\t<li>0.36458196213683</li>\n",
       "\t<li>0.768532924515416</li>\n",
       "\t<li>-0.112346212150228</li>\n",
       "\t<li>0.881107726454215</li>\n",
       "\t<li>0.398105880367068</li>\n",
       "\t<li>-0.612026393250771</li>\n",
       "\t<li>0.341119691424425</li>\n",
       "\t<li>-1.12936309608079</li>\n",
       "\t<li>1.43302370170104</li>\n",
       "\t<li>1.98039989850586</li>\n",
       "\t<li>-0.367221476466509</li>\n",
       "\t<li>-1.04413462631653</li>\n",
       "\t<li>0.569719627442413</li>\n",
       "\t<li>-0.135054603880824</li>\n",
       "\t<li>2.40161776050478</li>\n",
       "\t<li>-0.0392400027331692</li>\n",
       "\t<li>0.689739362450777</li>\n",
       "\t<li>0.0280021587806661</li>\n",
       "\t<li>-0.743273208882405</li>\n",
       "\t<li>0.188792299514343</li>\n",
       "\t<li>-1.80495862889104</li>\n",
       "\t<li>1.46555486156289</li>\n",
       "\t<li>0.153253338211898</li>\n",
       "\t<li>2.17261167036215</li>\n",
       "\t<li>0.475509528899663</li>\n",
       "\t<li>-0.709946430921815</li>\n",
       "\t<li>0.610726353489055</li>\n",
       "\t<li>-0.934097631644252</li>\n",
       "\t<li>-1.2536334002391</li>\n",
       "\t<li>0.291446235517463</li>\n",
       "\t<li>-0.443291873218433</li>\n",
       "\t<li>0.00110535163162413</li>\n",
       "\t<li>0.0743413241516641</li>\n",
       "\t<li>-0.589520946188072</li>\n",
       "\t<li>-0.568668732818502</li>\n",
       "\t<li>-0.135178615123832</li>\n",
       "\t<li>1.1780869965732</li>\n",
       "\t<li>-1.52356680042976</li>\n",
       "\t<li>0.593946187628422</li>\n",
       "\t<li>0.332950371213518</li>\n",
       "\t<li>1.06309983727636</li>\n",
       "\t<li>-0.304183923634301</li>\n",
       "\t<li>0.370018809916288</li>\n",
       "\t<li>0.267098790772231</li>\n",
       "\t<li>-0.54252003099165</li>\n",
       "\t<li>1.20786780598317</li>\n",
       "\t<li>1.16040261569495</li>\n",
       "\t<li>0.700213649514998</li>\n",
       "\t<li>1.58683345454085</li>\n",
       "\t<li>0.558486425565304</li>\n",
       "\t<li>-1.27659220845804</li>\n",
       "\t<li>-0.573265414236886</li>\n",
       "\t<li>-1.22461261489836</li>\n",
       "\t<li>-0.473400636439312</li>\n",
       "</ol>\n"
      ],
      "text/latex": [
       "\\begin{enumerate*}\n",
       "\\item -0.626453810742332\n",
       "\\item 0.183643324222082\n",
       "\\item -0.835628612410047\n",
       "\\item 1.59528080213779\n",
       "\\item 0.329507771815361\n",
       "\\item -0.820468384118015\n",
       "\\item 0.487429052428485\n",
       "\\item 0.738324705129217\n",
       "\\item 0.575781351653492\n",
       "\\item -0.305388387156356\n",
       "\\item 1.51178116845085\n",
       "\\item 0.389843236411431\n",
       "\\item -0.621240580541804\n",
       "\\item -2.2146998871775\n",
       "\\item 1.12493091814311\n",
       "\\item -0.0449336090152309\n",
       "\\item -0.0161902630989461\n",
       "\\item 0.943836210685299\n",
       "\\item 0.821221195098089\n",
       "\\item 0.593901321217509\n",
       "\\item 0.918977371608218\n",
       "\\item 0.782136300731067\n",
       "\\item 0.0745649833651906\n",
       "\\item -1.98935169586337\n",
       "\\item 0.61982574789471\n",
       "\\item -0.0561287395290008\n",
       "\\item -0.155795506705329\n",
       "\\item -1.47075238389927\n",
       "\\item -0.47815005510862\n",
       "\\item 0.417941560199702\n",
       "\\item 1.35867955152904\n",
       "\\item -0.102787727342996\n",
       "\\item 0.387671611559369\n",
       "\\item -0.0538050405829051\n",
       "\\item -1.37705955682861\n",
       "\\item -0.41499456329968\n",
       "\\item -0.394289953710349\n",
       "\\item -0.0593133967111857\n",
       "\\item 1.10002537198388\n",
       "\\item 0.763175748457544\n",
       "\\item -0.164523596253587\n",
       "\\item -0.253361680136508\n",
       "\\item 0.696963375404737\n",
       "\\item 0.556663198673657\n",
       "\\item -0.68875569454952\n",
       "\\item -0.70749515696212\n",
       "\\item 0.36458196213683\n",
       "\\item 0.768532924515416\n",
       "\\item -0.112346212150228\n",
       "\\item 0.881107726454215\n",
       "\\item 0.398105880367068\n",
       "\\item -0.612026393250771\n",
       "\\item 0.341119691424425\n",
       "\\item -1.12936309608079\n",
       "\\item 1.43302370170104\n",
       "\\item 1.98039989850586\n",
       "\\item -0.367221476466509\n",
       "\\item -1.04413462631653\n",
       "\\item 0.569719627442413\n",
       "\\item -0.135054603880824\n",
       "\\item 2.40161776050478\n",
       "\\item -0.0392400027331692\n",
       "\\item 0.689739362450777\n",
       "\\item 0.0280021587806661\n",
       "\\item -0.743273208882405\n",
       "\\item 0.188792299514343\n",
       "\\item -1.80495862889104\n",
       "\\item 1.46555486156289\n",
       "\\item 0.153253338211898\n",
       "\\item 2.17261167036215\n",
       "\\item 0.475509528899663\n",
       "\\item -0.709946430921815\n",
       "\\item 0.610726353489055\n",
       "\\item -0.934097631644252\n",
       "\\item -1.2536334002391\n",
       "\\item 0.291446235517463\n",
       "\\item -0.443291873218433\n",
       "\\item 0.00110535163162413\n",
       "\\item 0.0743413241516641\n",
       "\\item -0.589520946188072\n",
       "\\item -0.568668732818502\n",
       "\\item -0.135178615123832\n",
       "\\item 1.1780869965732\n",
       "\\item -1.52356680042976\n",
       "\\item 0.593946187628422\n",
       "\\item 0.332950371213518\n",
       "\\item 1.06309983727636\n",
       "\\item -0.304183923634301\n",
       "\\item 0.370018809916288\n",
       "\\item 0.267098790772231\n",
       "\\item -0.54252003099165\n",
       "\\item 1.20786780598317\n",
       "\\item 1.16040261569495\n",
       "\\item 0.700213649514998\n",
       "\\item 1.58683345454085\n",
       "\\item 0.558486425565304\n",
       "\\item -1.27659220845804\n",
       "\\item -0.573265414236886\n",
       "\\item -1.22461261489836\n",
       "\\item -0.473400636439312\n",
       "\\end{enumerate*}\n"
      ],
      "text/markdown": [
       "1. -0.626453810742332\n",
       "2. 0.183643324222082\n",
       "3. -0.835628612410047\n",
       "4. 1.59528080213779\n",
       "5. 0.329507771815361\n",
       "6. -0.820468384118015\n",
       "7. 0.487429052428485\n",
       "8. 0.738324705129217\n",
       "9. 0.575781351653492\n",
       "10. -0.305388387156356\n",
       "11. 1.51178116845085\n",
       "12. 0.389843236411431\n",
       "13. -0.621240580541804\n",
       "14. -2.2146998871775\n",
       "15. 1.12493091814311\n",
       "16. -0.0449336090152309\n",
       "17. -0.0161902630989461\n",
       "18. 0.943836210685299\n",
       "19. 0.821221195098089\n",
       "20. 0.593901321217509\n",
       "21. 0.918977371608218\n",
       "22. 0.782136300731067\n",
       "23. 0.0745649833651906\n",
       "24. -1.98935169586337\n",
       "25. 0.61982574789471\n",
       "26. -0.0561287395290008\n",
       "27. -0.155795506705329\n",
       "28. -1.47075238389927\n",
       "29. -0.47815005510862\n",
       "30. 0.417941560199702\n",
       "31. 1.35867955152904\n",
       "32. -0.102787727342996\n",
       "33. 0.387671611559369\n",
       "34. -0.0538050405829051\n",
       "35. -1.37705955682861\n",
       "36. -0.41499456329968\n",
       "37. -0.394289953710349\n",
       "38. -0.0593133967111857\n",
       "39. 1.10002537198388\n",
       "40. 0.763175748457544\n",
       "41. -0.164523596253587\n",
       "42. -0.253361680136508\n",
       "43. 0.696963375404737\n",
       "44. 0.556663198673657\n",
       "45. -0.68875569454952\n",
       "46. -0.70749515696212\n",
       "47. 0.36458196213683\n",
       "48. 0.768532924515416\n",
       "49. -0.112346212150228\n",
       "50. 0.881107726454215\n",
       "51. 0.398105880367068\n",
       "52. -0.612026393250771\n",
       "53. 0.341119691424425\n",
       "54. -1.12936309608079\n",
       "55. 1.43302370170104\n",
       "56. 1.98039989850586\n",
       "57. -0.367221476466509\n",
       "58. -1.04413462631653\n",
       "59. 0.569719627442413\n",
       "60. -0.135054603880824\n",
       "61. 2.40161776050478\n",
       "62. -0.0392400027331692\n",
       "63. 0.689739362450777\n",
       "64. 0.0280021587806661\n",
       "65. -0.743273208882405\n",
       "66. 0.188792299514343\n",
       "67. -1.80495862889104\n",
       "68. 1.46555486156289\n",
       "69. 0.153253338211898\n",
       "70. 2.17261167036215\n",
       "71. 0.475509528899663\n",
       "72. -0.709946430921815\n",
       "73. 0.610726353489055\n",
       "74. -0.934097631644252\n",
       "75. -1.2536334002391\n",
       "76. 0.291446235517463\n",
       "77. -0.443291873218433\n",
       "78. 0.00110535163162413\n",
       "79. 0.0743413241516641\n",
       "80. -0.589520946188072\n",
       "81. -0.568668732818502\n",
       "82. -0.135178615123832\n",
       "83. 1.1780869965732\n",
       "84. -1.52356680042976\n",
       "85. 0.593946187628422\n",
       "86. 0.332950371213518\n",
       "87. 1.06309983727636\n",
       "88. -0.304183923634301\n",
       "89. 0.370018809916288\n",
       "90. 0.267098790772231\n",
       "91. -0.54252003099165\n",
       "92. 1.20786780598317\n",
       "93. 1.16040261569495\n",
       "94. 0.700213649514998\n",
       "95. 1.58683345454085\n",
       "96. 0.558486425565304\n",
       "97. -1.27659220845804\n",
       "98. -0.573265414236886\n",
       "99. -1.22461261489836\n",
       "100. -0.473400636439312\n",
       "\n",
       "\n"
      ],
      "text/plain": [
       "  [1] -0.626453811  0.183643324 -0.835628612  1.595280802  0.329507772\n",
       "  [6] -0.820468384  0.487429052  0.738324705  0.575781352 -0.305388387\n",
       " [11]  1.511781168  0.389843236 -0.621240581 -2.214699887  1.124930918\n",
       " [16] -0.044933609 -0.016190263  0.943836211  0.821221195  0.593901321\n",
       " [21]  0.918977372  0.782136301  0.074564983 -1.989351696  0.619825748\n",
       " [26] -0.056128740 -0.155795507 -1.470752384 -0.478150055  0.417941560\n",
       " [31]  1.358679552 -0.102787727  0.387671612 -0.053805041 -1.377059557\n",
       " [36] -0.414994563 -0.394289954 -0.059313397  1.100025372  0.763175748\n",
       " [41] -0.164523596 -0.253361680  0.696963375  0.556663199 -0.688755695\n",
       " [46] -0.707495157  0.364581962  0.768532925 -0.112346212  0.881107726\n",
       " [51]  0.398105880 -0.612026393  0.341119691 -1.129363096  1.433023702\n",
       " [56]  1.980399899 -0.367221476 -1.044134626  0.569719627 -0.135054604\n",
       " [61]  2.401617761 -0.039240003  0.689739362  0.028002159 -0.743273209\n",
       " [66]  0.188792300 -1.804958629  1.465554862  0.153253338  2.172611670\n",
       " [71]  0.475509529 -0.709946431  0.610726353 -0.934097632 -1.253633400\n",
       " [76]  0.291446236 -0.443291873  0.001105352  0.074341324 -0.589520946\n",
       " [81] -0.568668733 -0.135178615  1.178086997 -1.523566800  0.593946188\n",
       " [86]  0.332950371  1.063099837 -0.304183924  0.370018810  0.267098791\n",
       " [91] -0.542520031  1.207867806  1.160402616  0.700213650  1.586833455\n",
       " [96]  0.558486426 -1.276592208 -0.573265414 -1.224612615 -0.473400636"
      ]
     },
     "metadata": {},
     "output_type": "display_data"
    },
    {
     "data": {
      "text/html": [
       "<ol class=list-inline>\n",
       "\t<li>-2.03170924195364</li>\n",
       "\t<li>0.158309456303644</li>\n",
       "\t<li>-3.14310061671917</li>\n",
       "\t<li>-3.33653210079692</li>\n",
       "\t<li>-0.542227615476905</li>\n",
       "\t<li>-0.399517853419823</li>\n",
       "\t<li>0.728962366143029</li>\n",
       "\t<li>0.558252194216153</li>\n",
       "\t<li>0.296918379655992</li>\n",
       "\t<li>1.19026355934314</li>\n",
       "\t<li>-3.69491988806335</li>\n",
       "\t<li>-0.375756991900613</li>\n",
       "\t<li>0.0391619401760244</li>\n",
       "\t<li>-12.6751874210159</li>\n",
       "\t<li>-1.61338896664745</li>\n",
       "\t<li>-0.441779596895482</li>\n",
       "\t<li>-0.336707380885879</li>\n",
       "\t<li>-1.11693067749283</li>\n",
       "\t<li>-0.0333989761907501</li>\n",
       "\t<li>-0.288866719739903</li>\n",
       "\t<li>-1.27601890956194</li>\n",
       "\t<li>0.901700740058922</li>\n",
       "\t<li>-0.15113429867018</li>\n",
       "\t<li>-10.0839485655757</li>\n",
       "\t<li>-0.248732908825326</li>\n",
       "\t<li>0.650236696720176</li>\n",
       "\t<li>-0.277904390650796</li>\n",
       "\t<li>-5.83461170485712</li>\n",
       "\t<li>-1.61706548426503</li>\n",
       "\t<li>-0.25567900753094</li>\n",
       "\t<li>-2.27318025552277</li>\n",
       "\t<li>-0.712812847387335</li>\n",
       "\t<li>0.618589247373865</li>\n",
       "\t<li>-1.57798908715395</li>\n",
       "\t<li>-4.86308774214484</li>\n",
       "\t<li>-2.29588536197385</li>\n",
       "\t<li>-1.00619521574078</li>\n",
       "\t<li>-0.594629459215029</li>\n",
       "\t<li>-1.97218104671368</li>\n",
       "\t<li>-0.458595475457314</li>\n",
       "\t<li>-2.13301904938203</li>\n",
       "\t<li>0.794837349958867</li>\n",
       "\t<li>-1.9395249541184</li>\n",
       "\t<li>-0.526615036313904</li>\n",
       "\t<li>-2.75344461314115</li>\n",
       "\t<li>-2.45941295240528</li>\n",
       "\t<li>2.18590849353409</li>\n",
       "\t<li>-0.395357167919768</li>\n",
       "\t<li>-1.42389008535356</li>\n",
       "\t<li>-2.31219945919899</li>\n",
       "\t<li>0.531316397674047</li>\n",
       "\t<li>-1.3797388380365</li>\n",
       "\t<li>-0.209673970874409</li>\n",
       "\t<li>-4.60964724911288</li>\n",
       "\t<li>-4.16155046771433</li>\n",
       "\t<li>-6.93875991411386</li>\n",
       "\t<li>0.363104101690919</li>\n",
       "\t<li>-3.84583555685968</li>\n",
       "\t<li>-1.46386812772832</li>\n",
       "\t<li>1.69775652648394</li>\n",
       "\t<li>-8.70881759726673</li>\n",
       "\t<li>-0.2809666592752</li>\n",
       "\t<li>0.796741634931789</li>\n",
       "\t<li>0.912856568362847</li>\n",
       "\t<li>-2.46742638319825</li>\n",
       "\t<li>2.32360969934298</li>\n",
       "\t<li>-8.57573696304848</li>\n",
       "\t<li>-4.25464189315114</li>\n",
       "\t<li>-0.0381194350885023</li>\n",
       "\t<li>-7.06033293079315</li>\n",
       "\t<li>2.33126930381027</li>\n",
       "\t<li>-1.61219193258535</li>\n",
       "\t<li>0.321751801220392</li>\n",
       "\t<li>-2.75632733788758</li>\n",
       "\t<li>-4.73082764699575</li>\n",
       "\t<li>0.0868383908115858</li>\n",
       "\t<li>-0.0486676373112858</li>\n",
       "\t<li>2.07634791667945</li>\n",
       "\t<li>1.09068049796219</li>\n",
       "\t<li>-0.0766824397903272</li>\n",
       "\t<li>-2.44676040974735</li>\n",
       "\t<li>0.812170438955953</li>\n",
       "\t<li>-1.37776614275589</li>\n",
       "\t<li>-7.63332842026557</li>\n",
       "\t<li>0.409424782679888</li>\n",
       "\t<li>-0.0475161328849369</li>\n",
       "\t<li>0.267324621212103</li>\n",
       "\t<li>-1.25532164203408</li>\n",
       "\t<li>-0.334020783395991</li>\n",
       "\t<li>-0.801694234669182</li>\n",
       "\t<li>-1.30827996048255</li>\n",
       "\t<li>-1.30800968799169</li>\n",
       "\t<li>-2.26441401844803</li>\n",
       "\t<li>0.549988507562447</li>\n",
       "\t<li>-4.65733015666369</li>\n",
       "\t<li>-1.11331216232386</li>\n",
       "\t<li>-3.09480983500529</li>\n",
       "\t<li>-2.24637934986191</li>\n",
       "\t<li>-3.81199001571722</li>\n",
       "\t<li>-1.30269301271052</li>\n",
       "</ol>\n"
      ],
      "text/latex": [
       "\\begin{enumerate*}\n",
       "\\item -2.03170924195364\n",
       "\\item 0.158309456303644\n",
       "\\item -3.14310061671917\n",
       "\\item -3.33653210079692\n",
       "\\item -0.542227615476905\n",
       "\\item -0.399517853419823\n",
       "\\item 0.728962366143029\n",
       "\\item 0.558252194216153\n",
       "\\item 0.296918379655992\n",
       "\\item 1.19026355934314\n",
       "\\item -3.69491988806335\n",
       "\\item -0.375756991900613\n",
       "\\item 0.0391619401760244\n",
       "\\item -12.6751874210159\n",
       "\\item -1.61338896664745\n",
       "\\item -0.441779596895482\n",
       "\\item -0.336707380885879\n",
       "\\item -1.11693067749283\n",
       "\\item -0.0333989761907501\n",
       "\\item -0.288866719739903\n",
       "\\item -1.27601890956194\n",
       "\\item 0.901700740058922\n",
       "\\item -0.15113429867018\n",
       "\\item -10.0839485655757\n",
       "\\item -0.248732908825326\n",
       "\\item 0.650236696720176\n",
       "\\item -0.277904390650796\n",
       "\\item -5.83461170485712\n",
       "\\item -1.61706548426503\n",
       "\\item -0.25567900753094\n",
       "\\item -2.27318025552277\n",
       "\\item -0.712812847387335\n",
       "\\item 0.618589247373865\n",
       "\\item -1.57798908715395\n",
       "\\item -4.86308774214484\n",
       "\\item -2.29588536197385\n",
       "\\item -1.00619521574078\n",
       "\\item -0.594629459215029\n",
       "\\item -1.97218104671368\n",
       "\\item -0.458595475457314\n",
       "\\item -2.13301904938203\n",
       "\\item 0.794837349958867\n",
       "\\item -1.9395249541184\n",
       "\\item -0.526615036313904\n",
       "\\item -2.75344461314115\n",
       "\\item -2.45941295240528\n",
       "\\item 2.18590849353409\n",
       "\\item -0.395357167919768\n",
       "\\item -1.42389008535356\n",
       "\\item -2.31219945919899\n",
       "\\item 0.531316397674047\n",
       "\\item -1.3797388380365\n",
       "\\item -0.209673970874409\n",
       "\\item -4.60964724911288\n",
       "\\item -4.16155046771433\n",
       "\\item -6.93875991411386\n",
       "\\item 0.363104101690919\n",
       "\\item -3.84583555685968\n",
       "\\item -1.46386812772832\n",
       "\\item 1.69775652648394\n",
       "\\item -8.70881759726673\n",
       "\\item -0.2809666592752\n",
       "\\item 0.796741634931789\n",
       "\\item 0.912856568362847\n",
       "\\item -2.46742638319825\n",
       "\\item 2.32360969934298\n",
       "\\item -8.57573696304848\n",
       "\\item -4.25464189315114\n",
       "\\item -0.0381194350885023\n",
       "\\item -7.06033293079315\n",
       "\\item 2.33126930381027\n",
       "\\item -1.61219193258535\n",
       "\\item 0.321751801220392\n",
       "\\item -2.75632733788758\n",
       "\\item -4.73082764699575\n",
       "\\item 0.0868383908115858\n",
       "\\item -0.0486676373112858\n",
       "\\item 2.07634791667945\n",
       "\\item 1.09068049796219\n",
       "\\item -0.0766824397903272\n",
       "\\item -2.44676040974735\n",
       "\\item 0.812170438955953\n",
       "\\item -1.37776614275589\n",
       "\\item -7.63332842026557\n",
       "\\item 0.409424782679888\n",
       "\\item -0.0475161328849369\n",
       "\\item 0.267324621212103\n",
       "\\item -1.25532164203408\n",
       "\\item -0.334020783395991\n",
       "\\item -0.801694234669182\n",
       "\\item -1.30827996048255\n",
       "\\item -1.30800968799169\n",
       "\\item -2.26441401844803\n",
       "\\item 0.549988507562447\n",
       "\\item -4.65733015666369\n",
       "\\item -1.11331216232386\n",
       "\\item -3.09480983500529\n",
       "\\item -2.24637934986191\n",
       "\\item -3.81199001571722\n",
       "\\item -1.30269301271052\n",
       "\\end{enumerate*}\n"
      ],
      "text/markdown": [
       "1. -2.03170924195364\n",
       "2. 0.158309456303644\n",
       "3. -3.14310061671917\n",
       "4. -3.33653210079692\n",
       "5. -0.542227615476905\n",
       "6. -0.399517853419823\n",
       "7. 0.728962366143029\n",
       "8. 0.558252194216153\n",
       "9. 0.296918379655992\n",
       "10. 1.19026355934314\n",
       "11. -3.69491988806335\n",
       "12. -0.375756991900613\n",
       "13. 0.0391619401760244\n",
       "14. -12.6751874210159\n",
       "15. -1.61338896664745\n",
       "16. -0.441779596895482\n",
       "17. -0.336707380885879\n",
       "18. -1.11693067749283\n",
       "19. -0.0333989761907501\n",
       "20. -0.288866719739903\n",
       "21. -1.27601890956194\n",
       "22. 0.901700740058922\n",
       "23. -0.15113429867018\n",
       "24. -10.0839485655757\n",
       "25. -0.248732908825326\n",
       "26. 0.650236696720176\n",
       "27. -0.277904390650796\n",
       "28. -5.83461170485712\n",
       "29. -1.61706548426503\n",
       "30. -0.25567900753094\n",
       "31. -2.27318025552277\n",
       "32. -0.712812847387335\n",
       "33. 0.618589247373865\n",
       "34. -1.57798908715395\n",
       "35. -4.86308774214484\n",
       "36. -2.29588536197385\n",
       "37. -1.00619521574078\n",
       "38. -0.594629459215029\n",
       "39. -1.97218104671368\n",
       "40. -0.458595475457314\n",
       "41. -2.13301904938203\n",
       "42. 0.794837349958867\n",
       "43. -1.9395249541184\n",
       "44. -0.526615036313904\n",
       "45. -2.75344461314115\n",
       "46. -2.45941295240528\n",
       "47. 2.18590849353409\n",
       "48. -0.395357167919768\n",
       "49. -1.42389008535356\n",
       "50. -2.31219945919899\n",
       "51. 0.531316397674047\n",
       "52. -1.3797388380365\n",
       "53. -0.209673970874409\n",
       "54. -4.60964724911288\n",
       "55. -4.16155046771433\n",
       "56. -6.93875991411386\n",
       "57. 0.363104101690919\n",
       "58. -3.84583555685968\n",
       "59. -1.46386812772832\n",
       "60. 1.69775652648394\n",
       "61. -8.70881759726673\n",
       "62. -0.2809666592752\n",
       "63. 0.796741634931789\n",
       "64. 0.912856568362847\n",
       "65. -2.46742638319825\n",
       "66. 2.32360969934298\n",
       "67. -8.57573696304848\n",
       "68. -4.25464189315114\n",
       "69. -0.0381194350885023\n",
       "70. -7.06033293079315\n",
       "71. 2.33126930381027\n",
       "72. -1.61219193258535\n",
       "73. 0.321751801220392\n",
       "74. -2.75632733788758\n",
       "75. -4.73082764699575\n",
       "76. 0.0868383908115858\n",
       "77. -0.0486676373112858\n",
       "78. 2.07634791667945\n",
       "79. 1.09068049796219\n",
       "80. -0.0766824397903272\n",
       "81. -2.44676040974735\n",
       "82. 0.812170438955953\n",
       "83. -1.37776614275589\n",
       "84. -7.63332842026557\n",
       "85. 0.409424782679888\n",
       "86. -0.0475161328849369\n",
       "87. 0.267324621212103\n",
       "88. -1.25532164203408\n",
       "89. -0.334020783395991\n",
       "90. -0.801694234669182\n",
       "91. -1.30827996048255\n",
       "92. -1.30800968799169\n",
       "93. -2.26441401844803\n",
       "94. 0.549988507562447\n",
       "95. -4.65733015666369\n",
       "96. -1.11331216232386\n",
       "97. -3.09480983500529\n",
       "98. -2.24637934986191\n",
       "99. -3.81199001571722\n",
       "100. -1.30269301271052\n",
       "\n",
       "\n"
      ],
      "text/plain": [
       "  [1]  -2.03170924   0.15830946  -3.14310062  -3.33653210  -0.54222762\n",
       "  [6]  -0.39951785   0.72896237   0.55825219   0.29691838   1.19026356\n",
       " [11]  -3.69491989  -0.37575699   0.03916194 -12.67518742  -1.61338897\n",
       " [16]  -0.44177960  -0.33670738  -1.11693068  -0.03339898  -0.28886672\n",
       " [21]  -1.27601891   0.90170074  -0.15113430 -10.08394857  -0.24873291\n",
       " [26]   0.65023670  -0.27790439  -5.83461170  -1.61706548  -0.25567901\n",
       " [31]  -2.27318026  -0.71281285   0.61858925  -1.57798909  -4.86308774\n",
       " [36]  -2.29588536  -1.00619522  -0.59462946  -1.97218105  -0.45859548\n",
       " [41]  -2.13301905   0.79483735  -1.93952495  -0.52661504  -2.75344461\n",
       " [46]  -2.45941295   2.18590849  -0.39535717  -1.42389009  -2.31219946\n",
       " [51]   0.53131640  -1.37973884  -0.20967397  -4.60964725  -4.16155047\n",
       " [56]  -6.93875991   0.36310410  -3.84583556  -1.46386813   1.69775653\n",
       " [61]  -8.70881760  -0.28096666   0.79674163   0.91285657  -2.46742638\n",
       " [66]   2.32360970  -8.57573696  -4.25464189  -0.03811944  -7.06033293\n",
       " [71]   2.33126930  -1.61219193   0.32175180  -2.75632734  -4.73082765\n",
       " [76]   0.08683839  -0.04866764   2.07634792   1.09068050  -0.07668244\n",
       " [81]  -2.44676041   0.81217044  -1.37776614  -7.63332842   0.40942478\n",
       " [86]  -0.04751613   0.26732462  -1.25532164  -0.33402078  -0.80169423\n",
       " [91]  -1.30827996  -1.30800969  -2.26441402   0.54998851  -4.65733016\n",
       " [96]  -1.11331216  -3.09480984  -2.24637935  -3.81199002  -1.30269301"
      ]
     },
     "metadata": {},
     "output_type": "display_data"
    },
    {
     "name": "stdout",
     "output_type": "stream",
     "text": [
      " num [1:100] -0.626 0.184 -0.836 1.595 0.33 ...\n",
      " num [1:100] -2.032 0.158 -3.143 -3.337 -0.542 ...\n"
     ]
    }
   ],
   "source": [
    "set.seed (1)\n",
    "x=rnorm (100)\n",
    "y=x-2* x^2+ rnorm (100)\n",
    "x\n",
    "y\n",
    "str(x)\n",
    "str(y)"
   ]
  },
  {
   "cell_type": "markdown",
   "metadata": {},
   "source": [
    "n = 100\n",
    "\n",
    "p = 2\n",
    "\n",
    "y = x - 2x^2 + e"
   ]
  },
  {
   "cell_type": "markdown",
   "metadata": {},
   "source": [
    "### part b"
   ]
  },
  {
   "cell_type": "code",
   "execution_count": 5,
   "metadata": {},
   "outputs": [
    {
     "data": {
      "image/png": "[encoded data removed]",
      "text/plain": [
       "plot without title"
      ]
     },
     "metadata": {},
     "output_type": "display_data"
    }
   ],
   "source": [
    "plot(x, y)"
   ]
  },
  {
   "cell_type": "markdown",
   "metadata": {},
   "source": [
    "Our plot shows a parabola: an upside down U shape."
   ]
  },
  {
   "cell_type": "markdown",
   "metadata": {},
   "source": [
    "### part c"
   ]
  },
  {
   "cell_type": "code",
   "execution_count": 6,
   "metadata": {},
   "outputs": [
    {
     "name": "stdout",
     "output_type": "stream",
     "text": [
      "package 'boot' successfully unpacked and MD5 sums checked\n",
      "\n",
      "The downloaded binary packages are in\n",
      "\tC:\\Users\\feledu1\\AppData\\Local\\Temp\\Rtmpm6NNDF\\downloaded_packages\n"
     ]
    },
    {
     "name": "stderr",
     "output_type": "stream",
     "text": [
      "Warning message:\n",
      "\"package 'boot' was built under R version 3.6.3\""
     ]
    }
   ],
   "source": [
    "install.packages(\"boot\")\n",
    "library(boot)"
   ]
  },
  {
   "cell_type": "code",
   "execution_count": 14,
   "metadata": {},
   "outputs": [
    {
     "data": {
      "text/html": [
       "<dl class=dl-horizontal>\n",
       "\t<dt>(Intercept)</dt>\n",
       "\t\t<dd>0.231210979914888</dd>\n",
       "\t<dt>y</dt>\n",
       "\t\t<dd>0.0789173111376147</dd>\n",
       "</dl>\n"
      ],
      "text/latex": [
       "\\begin{description*}\n",
       "\\item[(Intercept)] 0.231210979914888\n",
       "\\item[y] 0.0789173111376147\n",
       "\\end{description*}\n"
      ],
      "text/markdown": [
       "(Intercept)\n",
       ":   0.231210979914888y\n",
       ":   0.0789173111376147\n",
       "\n"
      ],
      "text/plain": [
       "(Intercept)           y \n",
       " 0.23121098  0.07891731 "
      ]
     },
     "metadata": {},
     "output_type": "display_data"
    },
    {
     "data": {
      "text/html": [
       "<ol class=list-inline>\n",
       "\t<li>0.821034296577106</li>\n",
       "\t<li>0.820690307782684</li>\n",
       "</ol>\n"
      ],
      "text/latex": [
       "\\begin{enumerate*}\n",
       "\\item 0.821034296577106\n",
       "\\item 0.820690307782684\n",
       "\\end{enumerate*}\n"
      ],
      "text/markdown": [
       "1. 0.821034296577106\n",
       "2. 0.820690307782684\n",
       "\n",
       "\n"
      ],
      "text/plain": [
       "[1] 0.8210343 0.8206903"
      ]
     },
     "metadata": {},
     "output_type": "display_data"
    }
   ],
   "source": [
    "set.seed (2)\n",
    "\n",
    "a <- data.frame(x, y)\n",
    "glm.fit = glm(x ~ y, data = a)\n",
    "\n",
    "coef(glm.fit) #Using glm()\n",
    "\n",
    "cv.err = cv.glm(a, glm.fit)\n",
    "cv.err$delta"
   ]
  },
  {
   "cell_type": "code",
   "execution_count": 19,
   "metadata": {},
   "outputs": [
    {
     "name": "stdout",
     "output_type": "stream",
     "text": [
      "[1] 1\n",
      "(Intercept)  poly(x, i) \n",
      "  -1.550023    6.188826 \n",
      "[1] 7.288162 7.284744\n",
      "[1] 2\n",
      "(Intercept) poly(x, i)1 poly(x, i)2 \n",
      "  -1.550023    6.188826  -23.948305 \n",
      "[1] 0.9374236 0.9371789\n",
      "[1] 3\n",
      "(Intercept) poly(x, i)1 poly(x, i)2 poly(x, i)3 \n",
      " -1.5500226   6.1888256 -23.9483049   0.2641057 \n",
      "[1] 0.9566218 0.9562538\n",
      "[1] 4\n",
      "(Intercept) poly(x, i)1 poly(x, i)2 poly(x, i)3 poly(x, i)4 \n",
      " -1.5500226   6.1888256 -23.9483049   0.2641057   1.2570950 \n",
      "[1] 0.9539049 0.9534453\n"
     ]
    }
   ],
   "source": [
    "set.seed (3)\n",
    "a <- data.frame(x, y)\n",
    "\n",
    "for (i in 1:4) {\n",
    "   print(i)\n",
    "   glm.fit = glm(y ~ poly(x, i), data = a)\n",
    "   print(coef(glm.fit))\n",
    "\n",
    "   cv.err = cv.glm(a, glm.fit)\n",
    "   print(cv.err$delta)\n",
    "}"
   ]
  },
  {
   "cell_type": "markdown",
   "metadata": {},
   "source": [
    "### part d"
   ]
  },
  {
   "cell_type": "code",
   "execution_count": 20,
   "metadata": {},
   "outputs": [
    {
     "name": "stdout",
     "output_type": "stream",
     "text": [
      "[1] 1\n",
      "(Intercept)  poly(x, i) \n",
      "  -1.550023    6.188826 \n",
      "[1] 7.288162 7.284744\n",
      "[1] 2\n",
      "(Intercept) poly(x, i)1 poly(x, i)2 \n",
      "  -1.550023    6.188826  -23.948305 \n",
      "[1] 0.9374236 0.9371789\n",
      "[1] 3\n",
      "(Intercept) poly(x, i)1 poly(x, i)2 poly(x, i)3 \n",
      " -1.5500226   6.1888256 -23.9483049   0.2641057 \n",
      "[1] 0.9566218 0.9562538\n",
      "[1] 4\n",
      "(Intercept) poly(x, i)1 poly(x, i)2 poly(x, i)3 poly(x, i)4 \n",
      " -1.5500226   6.1888256 -23.9483049   0.2641057   1.2570950 \n",
      "[1] 0.9539049 0.9534453\n"
     ]
    }
   ],
   "source": [
    "set.seed (4)\n",
    "a <- data.frame(x, y)\n",
    "\n",
    "for (i in 1:4) {\n",
    "   print(i)\n",
    "   glm.fit = glm(y ~ poly(x, i), data = a)\n",
    "   print(coef(glm.fit))\n",
    "\n",
    "   cv.err = cv.glm(a, glm.fit)\n",
    "   print(cv.err$delta)\n",
    "}"
   ]
  },
  {
   "cell_type": "markdown",
   "metadata": {},
   "source": [
    "The results are the same because LOOCV is designed to take each observation as a hold out set"
   ]
  },
  {
   "cell_type": "markdown",
   "metadata": {},
   "source": [
    "### part e"
   ]
  },
  {
   "cell_type": "markdown",
   "metadata": {},
   "source": [
    "Polynomial iteration = 2 has the smallest LOOCV error. This is expected as the formula is a quadratic equation."
   ]
  },
  {
   "cell_type": "markdown",
   "metadata": {},
   "source": [
    "### part f"
   ]
  },
  {
   "cell_type": "markdown",
   "metadata": {},
   "source": [
    "improvement only between the linear and the qudratic fits, no further improvement observed as we increase the order of polynomials"
   ]
  },
  {
   "cell_type": "markdown",
   "metadata": {},
   "source": [
    "## Chapter 6 - Exercise 1"
   ]
  },
  {
   "cell_type": "markdown",
   "metadata": {},
   "source": [
    "### part a"
   ]
  },
  {
   "cell_type": "markdown",
   "metadata": {},
   "source": [
    "Best subset selection is designed to get all possible combinations that the stepwise selections may otherwise miss, hence, the best subset selection can very likely have the lowest RSS."
   ]
  },
  {
   "cell_type": "markdown",
   "metadata": {},
   "source": [
    "### part b"
   ]
  },
  {
   "cell_type": "markdown",
   "metadata": {},
   "source": [
    "It depends on the training and test data. Although best subset selection will yield the lowest RSS, it does not ensure low test error as overfitting can occur."
   ]
  },
  {
   "cell_type": "markdown",
   "metadata": {},
   "source": [
    "### part c"
   ]
  },
  {
   "cell_type": "markdown",
   "metadata": {},
   "source": [
    "i. True\n",
    "\n",
    "ii. True\n",
    "\n",
    "iii. False\n",
    "\n",
    "iv. False\n",
    "\n",
    "v. False"
   ]
  },
  {
   "cell_type": "markdown",
   "metadata": {},
   "source": [
    "## Chapter 6 - Exercise 9"
   ]
  },
  {
   "cell_type": "markdown",
   "metadata": {},
   "source": [
    "### part a"
   ]
  },
  {
   "cell_type": "code",
   "execution_count": 21,
   "metadata": {},
   "outputs": [
    {
     "name": "stderr",
     "output_type": "stream",
     "text": [
      "Warning message:\n",
      "\"package 'ISLR' was built under R version 3.6.3\""
     ]
    },
    {
     "data": {
      "text/html": [
       "0"
      ],
      "text/latex": [
       "0"
      ],
      "text/markdown": [
       "0"
      ],
      "text/plain": [
       "[1] 0"
      ]
     },
     "metadata": {},
     "output_type": "display_data"
    }
   ],
   "source": [
    "library(ISLR)\n",
    "set.seed(11)\n",
    "sum(is.na(College))"
   ]
  },
  {
   "cell_type": "code",
   "execution_count": 23,
   "metadata": {},
   "outputs": [
    {
     "data": {
      "text/html": [
       "<table>\n",
       "<thead><tr><th></th><th scope=col>Private</th><th scope=col>Apps</th><th scope=col>Accept</th><th scope=col>Enroll</th><th scope=col>Top10perc</th><th scope=col>Top25perc</th><th scope=col>F.Undergrad</th><th scope=col>P.Undergrad</th><th scope=col>Outstate</th><th scope=col>Room.Board</th><th scope=col>Books</th><th scope=col>Personal</th><th scope=col>PhD</th><th scope=col>Terminal</th><th scope=col>S.F.Ratio</th><th scope=col>perc.alumni</th><th scope=col>Expend</th><th scope=col>Grad.Rate</th></tr></thead>\n",
       "<tbody>\n",
       "\t<tr><th scope=row>Abilene Christian University</th><td>Yes  </td><td>1660 </td><td>1232 </td><td>721  </td><td>23   </td><td>52   </td><td>2885 </td><td> 537 </td><td> 7440</td><td>3300 </td><td>450  </td><td>2200 </td><td>70   </td><td>78   </td><td>18.1 </td><td>12   </td><td> 7041</td><td>60   </td></tr>\n",
       "\t<tr><th scope=row>Adelphi University</th><td>Yes  </td><td>2186 </td><td>1924 </td><td>512  </td><td>16   </td><td>29   </td><td>2683 </td><td>1227 </td><td>12280</td><td>6450 </td><td>750  </td><td>1500 </td><td>29   </td><td>30   </td><td>12.2 </td><td>16   </td><td>10527</td><td>56   </td></tr>\n",
       "\t<tr><th scope=row>Adrian College</th><td>Yes  </td><td>1428 </td><td>1097 </td><td>336  </td><td>22   </td><td>50   </td><td>1036 </td><td>  99 </td><td>11250</td><td>3750 </td><td>400  </td><td>1165 </td><td>53   </td><td>66   </td><td>12.9 </td><td>30   </td><td> 8735</td><td>54   </td></tr>\n",
       "\t<tr><th scope=row>Agnes Scott College</th><td>Yes  </td><td> 417 </td><td> 349 </td><td>137  </td><td>60   </td><td>89   </td><td> 510 </td><td>  63 </td><td>12960</td><td>5450 </td><td>450  </td><td> 875 </td><td>92   </td><td>97   </td><td> 7.7 </td><td>37   </td><td>19016</td><td>59   </td></tr>\n",
       "\t<tr><th scope=row>Alaska Pacific University</th><td>Yes  </td><td> 193 </td><td> 146 </td><td> 55  </td><td>16   </td><td>44   </td><td> 249 </td><td> 869 </td><td> 7560</td><td>4120 </td><td>800  </td><td>1500 </td><td>76   </td><td>72   </td><td>11.9 </td><td> 2   </td><td>10922</td><td>15   </td></tr>\n",
       "\t<tr><th scope=row>Albertson College</th><td>Yes  </td><td> 587 </td><td> 479 </td><td>158  </td><td>38   </td><td>62   </td><td> 678 </td><td>  41 </td><td>13500</td><td>3335 </td><td>500  </td><td> 675 </td><td>67   </td><td>73   </td><td> 9.4 </td><td>11   </td><td> 9727</td><td>55   </td></tr>\n",
       "</tbody>\n",
       "</table>\n"
      ],
      "text/latex": [
       "\\begin{tabular}{r|llllllllllllllllll}\n",
       "  & Private & Apps & Accept & Enroll & Top10perc & Top25perc & F.Undergrad & P.Undergrad & Outstate & Room.Board & Books & Personal & PhD & Terminal & S.F.Ratio & perc.alumni & Expend & Grad.Rate\\\\\n",
       "\\hline\n",
       "\tAbilene Christian University & Yes   & 1660  & 1232  & 721   & 23    & 52    & 2885  &  537  &  7440 & 3300  & 450   & 2200  & 70    & 78    & 18.1  & 12    &  7041 & 60   \\\\\n",
       "\tAdelphi University & Yes   & 2186  & 1924  & 512   & 16    & 29    & 2683  & 1227  & 12280 & 6450  & 750   & 1500  & 29    & 30    & 12.2  & 16    & 10527 & 56   \\\\\n",
       "\tAdrian College & Yes   & 1428  & 1097  & 336   & 22    & 50    & 1036  &   99  & 11250 & 3750  & 400   & 1165  & 53    & 66    & 12.9  & 30    &  8735 & 54   \\\\\n",
       "\tAgnes Scott College & Yes   &  417  &  349  & 137   & 60    & 89    &  510  &   63  & 12960 & 5450  & 450   &  875  & 92    & 97    &  7.7  & 37    & 19016 & 59   \\\\\n",
       "\tAlaska Pacific University & Yes   &  193  &  146  &  55   & 16    & 44    &  249  &  869  &  7560 & 4120  & 800   & 1500  & 76    & 72    & 11.9  &  2    & 10922 & 15   \\\\\n",
       "\tAlbertson College & Yes   &  587  &  479  & 158   & 38    & 62    &  678  &   41  & 13500 & 3335  & 500   &  675  & 67    & 73    &  9.4  & 11    &  9727 & 55   \\\\\n",
       "\\end{tabular}\n"
      ],
      "text/markdown": [
       "\n",
       "| <!--/--> | Private | Apps | Accept | Enroll | Top10perc | Top25perc | F.Undergrad | P.Undergrad | Outstate | Room.Board | Books | Personal | PhD | Terminal | S.F.Ratio | perc.alumni | Expend | Grad.Rate |\n",
       "|---|---|---|---|---|---|---|---|---|---|---|---|---|---|---|---|---|---|---|\n",
       "| Abilene Christian University | Yes   | 1660  | 1232  | 721   | 23    | 52    | 2885  |  537  |  7440 | 3300  | 450   | 2200  | 70    | 78    | 18.1  | 12    |  7041 | 60    |\n",
       "| Adelphi University | Yes   | 2186  | 1924  | 512   | 16    | 29    | 2683  | 1227  | 12280 | 6450  | 750   | 1500  | 29    | 30    | 12.2  | 16    | 10527 | 56    |\n",
       "| Adrian College | Yes   | 1428  | 1097  | 336   | 22    | 50    | 1036  |   99  | 11250 | 3750  | 400   | 1165  | 53    | 66    | 12.9  | 30    |  8735 | 54    |\n",
       "| Agnes Scott College | Yes   |  417  |  349  | 137   | 60    | 89    |  510  |   63  | 12960 | 5450  | 450   |  875  | 92    | 97    |  7.7  | 37    | 19016 | 59    |\n",
       "| Alaska Pacific University | Yes   |  193  |  146  |  55   | 16    | 44    |  249  |  869  |  7560 | 4120  | 800   | 1500  | 76    | 72    | 11.9  |  2    | 10922 | 15    |\n",
       "| Albertson College | Yes   |  587  |  479  | 158   | 38    | 62    |  678  |   41  | 13500 | 3335  | 500   |  675  | 67    | 73    |  9.4  | 11    |  9727 | 55    |\n",
       "\n"
      ],
      "text/plain": [
       "                             Private Apps Accept Enroll Top10perc Top25perc\n",
       "Abilene Christian University Yes     1660 1232   721    23        52       \n",
       "Adelphi University           Yes     2186 1924   512    16        29       \n",
       "Adrian College               Yes     1428 1097   336    22        50       \n",
       "Agnes Scott College          Yes      417  349   137    60        89       \n",
       "Alaska Pacific University    Yes      193  146    55    16        44       \n",
       "Albertson College            Yes      587  479   158    38        62       \n",
       "                             F.Undergrad P.Undergrad Outstate Room.Board Books\n",
       "Abilene Christian University 2885         537         7440    3300       450  \n",
       "Adelphi University           2683        1227        12280    6450       750  \n",
       "Adrian College               1036          99        11250    3750       400  \n",
       "Agnes Scott College           510          63        12960    5450       450  \n",
       "Alaska Pacific University     249         869         7560    4120       800  \n",
       "Albertson College             678          41        13500    3335       500  \n",
       "                             Personal PhD Terminal S.F.Ratio perc.alumni Expend\n",
       "Abilene Christian University 2200     70  78       18.1      12           7041 \n",
       "Adelphi University           1500     29  30       12.2      16          10527 \n",
       "Adrian College               1165     53  66       12.9      30           8735 \n",
       "Agnes Scott College           875     92  97        7.7      37          19016 \n",
       "Alaska Pacific University    1500     76  72       11.9       2          10922 \n",
       "Albertson College             675     67  73        9.4      11           9727 \n",
       "                             Grad.Rate\n",
       "Abilene Christian University 60       \n",
       "Adelphi University           56       \n",
       "Adrian College               54       \n",
       "Agnes Scott College          59       \n",
       "Alaska Pacific University    15       \n",
       "Albertson College            55       "
      ]
     },
     "metadata": {},
     "output_type": "display_data"
    }
   ],
   "source": [
    "head(College)"
   ]
  },
  {
   "cell_type": "code",
   "execution_count": 24,
   "metadata": {},
   "outputs": [],
   "source": [
    "train.size = dim(College)[1] / 2\n",
    "train = sample(1:dim(College)[1], train.size)\n",
    "test = -train\n",
    "College.train = College[train, ]\n",
    "College.test = College[test, ]"
   ]
  },
  {
   "cell_type": "markdown",
   "metadata": {},
   "source": [
    "### part b"
   ]
  },
  {
   "cell_type": "code",
   "execution_count": 25,
   "metadata": {},
   "outputs": [
    {
     "data": {
      "text/html": [
       "1026095.92589411"
      ],
      "text/latex": [
       "1026095.92589411"
      ],
      "text/markdown": [
       "1026095.92589411"
      ],
      "text/plain": [
       "[1] 1026096"
      ]
     },
     "metadata": {},
     "output_type": "display_data"
    }
   ],
   "source": [
    "lm.fit = lm(Apps~., data=College.train)\n",
    "lm.pred = predict(lm.fit, College.test)\n",
    "mean((College.test[, \"Apps\"] - lm.pred)^2)"
   ]
  },
  {
   "cell_type": "markdown",
   "metadata": {},
   "source": [
    "Test RSS is 1026096"
   ]
  },
  {
   "cell_type": "markdown",
   "metadata": {},
   "source": [
    "### part c"
   ]
  },
  {
   "cell_type": "code",
   "execution_count": 26,
   "metadata": {},
   "outputs": [
    {
     "name": "stderr",
     "output_type": "stream",
     "text": [
      "also installing the dependency 'shape'\n",
      "\n"
     ]
    },
    {
     "name": "stdout",
     "output_type": "stream",
     "text": [
      "package 'shape' successfully unpacked and MD5 sums checked\n",
      "package 'glmnet' successfully unpacked and MD5 sums checked\n",
      "\n",
      "The downloaded binary packages are in\n",
      "\tC:\\Users\\feledu1\\AppData\\Local\\Temp\\Rtmpm6NNDF\\downloaded_packages\n"
     ]
    },
    {
     "name": "stderr",
     "output_type": "stream",
     "text": [
      "Warning message:\n",
      "\"package 'glmnet' was built under R version 3.6.3\"Loading required package: Matrix\n",
      "Warning message:\n",
      "\"package 'Matrix' was built under R version 3.6.3\"Loaded glmnet 4.1-1\n"
     ]
    }
   ],
   "source": [
    "install.packages(\"glmnet\")\n",
    "library(glmnet)"
   ]
  },
  {
   "cell_type": "code",
   "execution_count": 27,
   "metadata": {},
   "outputs": [
    {
     "data": {
      "text/html": [
       "0.01"
      ],
      "text/latex": [
       "0.01"
      ],
      "text/markdown": [
       "0.01"
      ],
      "text/plain": [
       "[1] 0.01"
      ]
     },
     "metadata": {},
     "output_type": "display_data"
    }
   ],
   "source": [
    "train.mat = model.matrix(Apps~., data=College.train)\n",
    "test.mat = model.matrix(Apps~., data=College.test)\n",
    "grid = 10 ^ seq(4, -2, length=100)\n",
    "mod.ridge = cv.glmnet(train.mat, College.train[, \"Apps\"], alpha=0, lambda=grid, thresh=1e-12)\n",
    "lambda.best = mod.ridge$lambda.min\n",
    "lambda.best"
   ]
  },
  {
   "cell_type": "code",
   "execution_count": 28,
   "metadata": {},
   "outputs": [
    {
     "data": {
      "text/html": [
       "1026068.65314469"
      ],
      "text/latex": [
       "1026068.65314469"
      ],
      "text/markdown": [
       "1026068.65314469"
      ],
      "text/plain": [
       "[1] 1026069"
      ]
     },
     "metadata": {},
     "output_type": "display_data"
    }
   ],
   "source": [
    "ridge.pred = predict(mod.ridge, newx=test.mat, s=lambda.best)\n",
    "mean((College.test[, \"Apps\"] - ridge.pred)^2)"
   ]
  },
  {
   "cell_type": "markdown",
   "metadata": {},
   "source": [
    "Test RSS is slightly higher that OLS, 1456385"
   ]
  },
  {
   "cell_type": "markdown",
   "metadata": {},
   "source": [
    "### part d"
   ]
  },
  {
   "cell_type": "code",
   "execution_count": 29,
   "metadata": {},
   "outputs": [
    {
     "data": {
      "text/html": [
       "0.01"
      ],
      "text/latex": [
       "0.01"
      ],
      "text/markdown": [
       "0.01"
      ],
      "text/plain": [
       "[1] 0.01"
      ]
     },
     "metadata": {},
     "output_type": "display_data"
    }
   ],
   "source": [
    "mod.lasso = cv.glmnet(train.mat, College.train[, \"Apps\"], alpha=1, lambda=grid, thresh=1e-12)\n",
    "lambda.best = mod.lasso$lambda.min\n",
    "lambda.best"
   ]
  },
  {
   "cell_type": "code",
   "execution_count": 30,
   "metadata": {},
   "outputs": [
    {
     "data": {
      "text/html": [
       "1026035.85789427"
      ],
      "text/latex": [
       "1026035.85789427"
      ],
      "text/markdown": [
       "1026035.85789427"
      ],
      "text/plain": [
       "[1] 1026036"
      ]
     },
     "metadata": {},
     "output_type": "display_data"
    }
   ],
   "source": [
    "lasso.pred = predict(mod.lasso, newx=test.mat, s=lambda.best)\n",
    "mean((College.test[, \"Apps\"] - lasso.pred)^2)"
   ]
  },
  {
   "cell_type": "markdown",
   "metadata": {},
   "source": [
    "Again, Test RSS is slightly higher that OLS, 1432466"
   ]
  },
  {
   "cell_type": "code",
   "execution_count": 31,
   "metadata": {},
   "outputs": [
    {
     "data": {
      "text/plain": [
       "19 x 1 sparse Matrix of class \"dgCMatrix\"\n",
       "                        1\n",
       "(Intercept) -471.39372069\n",
       "(Intercept)    .         \n",
       "PrivateYes  -491.04485135\n",
       "Accept         1.57033288\n",
       "Enroll        -0.75961467\n",
       "Top10perc     48.14698891\n",
       "Top25perc    -12.84690694\n",
       "F.Undergrad    0.04149116\n",
       "P.Undergrad    0.04438973\n",
       "Outstate      -0.08328388\n",
       "Room.Board     0.14943472\n",
       "Books          0.01532293\n",
       "Personal       0.02909954\n",
       "PhD           -8.39597537\n",
       "Terminal      -3.26800340\n",
       "S.F.Ratio     14.59298267\n",
       "perc.alumni   -0.04404771\n",
       "Expend         0.07712632\n",
       "Grad.Rate      8.28950241"
      ]
     },
     "metadata": {},
     "output_type": "display_data"
    }
   ],
   "source": [
    "mod.lasso = glmnet(model.matrix(Apps~., data=College), College[, \"Apps\"], alpha=1)\n",
    "predict(mod.lasso, s=lambda.best, type=\"coefficients\")"
   ]
  },
  {
   "cell_type": "markdown",
   "metadata": {},
   "source": [
    "### part e"
   ]
  },
  {
   "cell_type": "code",
   "execution_count": 32,
   "metadata": {},
   "outputs": [
    {
     "name": "stdout",
     "output_type": "stream",
     "text": [
      "package 'pls' successfully unpacked and MD5 sums checked\n",
      "\n",
      "The downloaded binary packages are in\n",
      "\tC:\\Users\\feledu1\\AppData\\Local\\Temp\\Rtmpm6NNDF\\downloaded_packages\n"
     ]
    },
    {
     "name": "stderr",
     "output_type": "stream",
     "text": [
      "Warning message:\n",
      "\"package 'pls' was built under R version 3.6.3\"\n",
      "Attaching package: 'pls'\n",
      "\n",
      "The following object is masked from 'package:stats':\n",
      "\n",
      "    loadings\n",
      "\n"
     ]
    }
   ],
   "source": [
    "install.packages(\"pls\")\n",
    "library(pls)"
   ]
  },
  {
   "cell_type": "code",
   "execution_count": 33,
   "metadata": {},
   "outputs": [
    {
     "data": {
      "image/png": "[encoded data removed]",
      "text/plain": [
       "Plot with title \"Apps\""
      ]
     },
     "metadata": {},
     "output_type": "display_data"
    }
   ],
   "source": [
    "pcr.fit = pcr(Apps~., data=College.train, scale=T, validation=\"CV\")\n",
    "validationplot(pcr.fit, val.type=\"MSEP\")"
   ]
  },
  {
   "cell_type": "code",
   "execution_count": 34,
   "metadata": {},
   "outputs": [
    {
     "name": "stderr",
     "output_type": "stream",
     "text": [
      "Warning message in mean.default((College.test[, \"Apps\"] - data.frame(pcr.pred))^2):\n",
      "\"argument is not numeric or logical: returning NA\""
     ]
    },
    {
     "data": {
      "text/html": [
       "&lt;NA&gt;"
      ],
      "text/latex": [
       "<NA>"
      ],
      "text/markdown": [
       "&lt;NA&gt;"
      ],
      "text/plain": [
       "[1] NA"
      ]
     },
     "metadata": {},
     "output_type": "display_data"
    }
   ],
   "source": [
    "pcr.pred = predict(pcr.fit, College.test, ncomp=10)\n",
    "mean((College.test[, \"Apps\"] - data.frame(pcr.pred))^2)"
   ]
  },
  {
   "cell_type": "markdown",
   "metadata": {},
   "source": [
    "### part f"
   ]
  },
  {
   "cell_type": "code",
   "execution_count": 35,
   "metadata": {},
   "outputs": [
    {
     "data": {
      "image/png": "[encoded data removed]",
      "text/plain": [
       "Plot with title \"Apps\""
      ]
     },
     "metadata": {},
     "output_type": "display_data"
    }
   ],
   "source": [
    "pls.fit = plsr(Apps~., data=College.train, scale=T, validation=\"CV\")\n",
    "validationplot(pls.fit, val.type=\"MSEP\")"
   ]
  },
  {
   "cell_type": "code",
   "execution_count": 36,
   "metadata": {},
   "outputs": [
    {
     "name": "stderr",
     "output_type": "stream",
     "text": [
      "Warning message in mean.default((College.test[, \"Apps\"] - data.frame(pls.pred))^2):\n",
      "\"argument is not numeric or logical: returning NA\""
     ]
    },
    {
     "data": {
      "text/html": [
       "&lt;NA&gt;"
      ],
      "text/latex": [
       "<NA>"
      ],
      "text/markdown": [
       "&lt;NA&gt;"
      ],
      "text/plain": [
       "[1] NA"
      ]
     },
     "metadata": {},
     "output_type": "display_data"
    }
   ],
   "source": [
    "pls.pred = predict(pls.fit, College.test, ncomp=10)\n",
    "mean((College.test[, \"Apps\"] - data.frame(pls.pred))^2)"
   ]
  },
  {
   "cell_type": "markdown",
   "metadata": {},
   "source": [
    "## Chapter 7 - Exercise 9"
   ]
  },
  {
   "cell_type": "code",
   "execution_count": 37,
   "metadata": {},
   "outputs": [
    {
     "name": "stderr",
     "output_type": "stream",
     "text": [
      "Warning message:\n",
      "\"package 'MASS' was built under R version 3.6.3\""
     ]
    }
   ],
   "source": [
    "set.seed(1)\n",
    "library(MASS)\n",
    "attach(Boston)"
   ]
  },
  {
   "cell_type": "markdown",
   "metadata": {},
   "source": [
    "### part a"
   ]
  },
  {
   "cell_type": "code",
   "execution_count": 38,
   "metadata": {},
   "outputs": [
    {
     "data": {
      "text/plain": [
       "\n",
       "Call:\n",
       "lm(formula = nox ~ poly(dis, 3), data = Boston)\n",
       "\n",
       "Residuals:\n",
       "      Min        1Q    Median        3Q       Max \n",
       "-0.121130 -0.040619 -0.009738  0.023385  0.194904 \n",
       "\n",
       "Coefficients:\n",
       "               Estimate Std. Error t value Pr(>|t|)    \n",
       "(Intercept)    0.554695   0.002759 201.021  < 2e-16 ***\n",
       "poly(dis, 3)1 -2.003096   0.062071 -32.271  < 2e-16 ***\n",
       "poly(dis, 3)2  0.856330   0.062071  13.796  < 2e-16 ***\n",
       "poly(dis, 3)3 -0.318049   0.062071  -5.124 4.27e-07 ***\n",
       "---\n",
       "Signif. codes:  0 '***' 0.001 '**' 0.01 '*' 0.05 '.' 0.1 ' ' 1\n",
       "\n",
       "Residual standard error: 0.06207 on 502 degrees of freedom\n",
       "Multiple R-squared:  0.7148,\tAdjusted R-squared:  0.7131 \n",
       "F-statistic: 419.3 on 3 and 502 DF,  p-value: < 2.2e-16\n"
      ]
     },
     "metadata": {},
     "output_type": "display_data"
    }
   ],
   "source": [
    "lm.fit = lm(nox ~ poly(dis, 3), data = Boston)\n",
    "summary(lm.fit)"
   ]
  },
  {
   "cell_type": "code",
   "execution_count": 39,
   "metadata": {},
   "outputs": [
    {
     "data": {
      "image/png": "[encoded data removed]",
      "text/plain": [
       "plot without title"
      ]
     },
     "metadata": {},
     "output_type": "display_data"
    }
   ],
   "source": [
    "dislim = range(dis)\n",
    "dis.grid = seq(from = dislim[1], to = dislim[2], by = 0.1)\n",
    "lm.pred = predict(lm.fit, list(dis = dis.grid))\n",
    "plot(nox ~ dis, data = Boston, col = \"darkgrey\")\n",
    "lines(dis.grid, lm.pred, col = \"red\", lwd = 2)"
   ]
  },
  {
   "cell_type": "markdown",
   "metadata": {},
   "source": [
    "Summary shows that all polynomial terms are significant while predicting nox using dis. Plot shows a smooth curve fitting the data fairly well."
   ]
  },
  {
   "cell_type": "markdown",
   "metadata": {},
   "source": [
    "### part b"
   ]
  },
  {
   "cell_type": "code",
   "execution_count": 40,
   "metadata": {},
   "outputs": [
    {
     "data": {
      "text/html": [
       "<ol class=list-inline>\n",
       "\t<li>2.76856285896928</li>\n",
       "\t<li>2.03526186893526</li>\n",
       "\t<li>1.93410670717907</li>\n",
       "\t<li>1.93298132729859</li>\n",
       "\t<li>1.9152899610843</li>\n",
       "\t<li>1.87825729850816</li>\n",
       "\t<li>1.84948361458298</li>\n",
       "\t<li>1.83562968906769</li>\n",
       "\t<li>1.8333308044916</li>\n",
       "\t<li>1.83217112393135</li>\n",
       "</ol>\n"
      ],
      "text/latex": [
       "\\begin{enumerate*}\n",
       "\\item 2.76856285896928\n",
       "\\item 2.03526186893526\n",
       "\\item 1.93410670717907\n",
       "\\item 1.93298132729859\n",
       "\\item 1.9152899610843\n",
       "\\item 1.87825729850816\n",
       "\\item 1.84948361458298\n",
       "\\item 1.83562968906769\n",
       "\\item 1.8333308044916\n",
       "\\item 1.83217112393135\n",
       "\\end{enumerate*}\n"
      ],
      "text/markdown": [
       "1. 2.76856285896928\n",
       "2. 2.03526186893526\n",
       "3. 1.93410670717907\n",
       "4. 1.93298132729859\n",
       "5. 1.9152899610843\n",
       "6. 1.87825729850816\n",
       "7. 1.84948361458298\n",
       "8. 1.83562968906769\n",
       "9. 1.8333308044916\n",
       "10. 1.83217112393135\n",
       "\n",
       "\n"
      ],
      "text/plain": [
       " [1] 2.768563 2.035262 1.934107 1.932981 1.915290 1.878257 1.849484 1.835630\n",
       " [9] 1.833331 1.832171"
      ]
     },
     "metadata": {},
     "output_type": "display_data"
    }
   ],
   "source": [
    "all.rss = rep(NA, 10)\n",
    "for (i in 1:10) {\n",
    "    lm.fit = lm(nox ~ poly(dis, i), data = Boston)\n",
    "    all.rss[i] = sum(lm.fit$residuals^2)\n",
    "}\n",
    "all.rss"
   ]
  },
  {
   "cell_type": "markdown",
   "metadata": {},
   "source": [
    "As expected, train RSS monotonically decreases with degree of polynomial."
   ]
  },
  {
   "cell_type": "markdown",
   "metadata": {},
   "source": [
    "### part c"
   ]
  },
  {
   "cell_type": "code",
   "execution_count": 41,
   "metadata": {},
   "outputs": [
    {
     "data": {
      "image/png": "[encoded data removed]",
      "text/plain": [
       "plot without title"
      ]
     },
     "metadata": {},
     "output_type": "display_data"
    }
   ],
   "source": [
    "library(boot)\n",
    "all.deltas = rep(NA, 10)\n",
    "for (i in 1:10) {\n",
    "    glm.fit = glm(nox ~ poly(dis, i), data = Boston)\n",
    "    all.deltas[i] = cv.glm(Boston, glm.fit, K = 10)$delta[2]\n",
    "}\n",
    "plot(1:10, all.deltas, xlab = \"Degree\", ylab = \"CV error\", type = \"l\", pch = 20, \n",
    "    lwd = 2)"
   ]
  },
  {
   "cell_type": "markdown",
   "metadata": {},
   "source": [
    "A 10-fold CV shows that the CV error reduces as we increase degree from 1 to 3, stay almost constant till degree 5, and the starts increasing for higher degrees. We pick 4 as the best polynomial degree"
   ]
  },
  {
   "cell_type": "markdown",
   "metadata": {},
   "source": [
    "### part d"
   ]
  },
  {
   "cell_type": "code",
   "execution_count": 42,
   "metadata": {},
   "outputs": [
    {
     "data": {
      "text/plain": [
       "\n",
       "Call:\n",
       "lm(formula = nox ~ bs(dis, df = 4, knots = c(4, 7, 11)), data = Boston)\n",
       "\n",
       "Residuals:\n",
       "      Min        1Q    Median        3Q       Max \n",
       "-0.124567 -0.040355 -0.008702  0.024740  0.192920 \n",
       "\n",
       "Coefficients:\n",
       "                                      Estimate Std. Error t value Pr(>|t|)    \n",
       "(Intercept)                            0.73926    0.01331  55.537  < 2e-16 ***\n",
       "bs(dis, df = 4, knots = c(4, 7, 11))1 -0.08861    0.02504  -3.539  0.00044 ***\n",
       "bs(dis, df = 4, knots = c(4, 7, 11))2 -0.31341    0.01680 -18.658  < 2e-16 ***\n",
       "bs(dis, df = 4, knots = c(4, 7, 11))3 -0.26618    0.03147  -8.459 3.00e-16 ***\n",
       "bs(dis, df = 4, knots = c(4, 7, 11))4 -0.39802    0.04647  -8.565  < 2e-16 ***\n",
       "bs(dis, df = 4, knots = c(4, 7, 11))5 -0.25681    0.09001  -2.853  0.00451 ** \n",
       "bs(dis, df = 4, knots = c(4, 7, 11))6 -0.32926    0.06327  -5.204 2.85e-07 ***\n",
       "---\n",
       "Signif. codes:  0 '***' 0.001 '**' 0.01 '*' 0.05 '.' 0.1 ' ' 1\n",
       "\n",
       "Residual standard error: 0.06185 on 499 degrees of freedom\n",
       "Multiple R-squared:  0.7185,\tAdjusted R-squared:  0.7151 \n",
       "F-statistic: 212.3 on 6 and 499 DF,  p-value: < 2.2e-16\n"
      ]
     },
     "metadata": {},
     "output_type": "display_data"
    }
   ],
   "source": [
    "library(splines)\n",
    "sp.fit = lm(nox ~ bs(dis, df = 4, knots = c(4, 7, 11)), data = Boston)\n",
    "summary(sp.fit)"
   ]
  },
  {
   "cell_type": "code",
   "execution_count": 43,
   "metadata": {},
   "outputs": [
    {
     "data": {
      "image/png": "[encoded data removed]",
      "text/plain": [
       "plot without title"
      ]
     },
     "metadata": {},
     "output_type": "display_data"
    }
   ],
   "source": [
    "sp.pred = predict(sp.fit, list(dis = dis.grid))\n",
    "plot(nox ~ dis, data = Boston, col = \"darkgrey\")\n",
    "lines(dis.grid, sp.pred, col = \"red\", lwd = 2)"
   ]
  },
  {
   "cell_type": "markdown",
   "metadata": {},
   "source": [
    "The summary shows that all terms in spline fit are significant. Plot shows that the spline fits data well except at the extreme values of dis, (especially dis>10)."
   ]
  },
  {
   "cell_type": "markdown",
   "metadata": {},
   "source": [
    "### part e"
   ]
  },
  {
   "cell_type": "code",
   "execution_count": 44,
   "metadata": {},
   "outputs": [
    {
     "data": {
      "text/html": [
       "<ol class=list-inline>\n",
       "\t<li>1.93410670717907</li>\n",
       "\t<li>1.92277499281193</li>\n",
       "\t<li>1.84017280148852</li>\n",
       "\t<li>1.83396590316021</li>\n",
       "\t<li>1.82988444592328</li>\n",
       "\t<li>1.81699505672523</li>\n",
       "\t<li>1.82565251038706</li>\n",
       "\t<li>1.79253488955613</li>\n",
       "\t<li>1.79699182173143</li>\n",
       "\t<li>1.78899914528888</li>\n",
       "\t<li>1.78235042874344</li>\n",
       "\t<li>1.78183805686312</li>\n",
       "\t<li>1.78279784044131</li>\n",
       "\t<li>1.78354576630177</li>\n",
       "</ol>\n"
      ],
      "text/latex": [
       "\\begin{enumerate*}\n",
       "\\item 1.93410670717907\n",
       "\\item 1.92277499281193\n",
       "\\item 1.84017280148852\n",
       "\\item 1.83396590316021\n",
       "\\item 1.82988444592328\n",
       "\\item 1.81699505672523\n",
       "\\item 1.82565251038706\n",
       "\\item 1.79253488955613\n",
       "\\item 1.79699182173143\n",
       "\\item 1.78899914528888\n",
       "\\item 1.78235042874344\n",
       "\\item 1.78183805686312\n",
       "\\item 1.78279784044131\n",
       "\\item 1.78354576630177\n",
       "\\end{enumerate*}\n"
      ],
      "text/markdown": [
       "1. 1.93410670717907\n",
       "2. 1.92277499281193\n",
       "3. 1.84017280148852\n",
       "4. 1.83396590316021\n",
       "5. 1.82988444592328\n",
       "6. 1.81699505672523\n",
       "7. 1.82565251038706\n",
       "8. 1.79253488955613\n",
       "9. 1.79699182173143\n",
       "10. 1.78899914528888\n",
       "11. 1.78235042874344\n",
       "12. 1.78183805686312\n",
       "13. 1.78279784044131\n",
       "14. 1.78354576630177\n",
       "\n",
       "\n"
      ],
      "text/plain": [
       " [1] 1.934107 1.922775 1.840173 1.833966 1.829884 1.816995 1.825653 1.792535\n",
       " [9] 1.796992 1.788999 1.782350 1.781838 1.782798 1.783546"
      ]
     },
     "metadata": {},
     "output_type": "display_data"
    }
   ],
   "source": [
    "all.cv = rep(NA, 16)\n",
    "for (i in 3:16) {\n",
    "    lm.fit = lm(nox ~ bs(dis, df = i), data = Boston)\n",
    "    all.cv[i] = sum(lm.fit$residuals^2)\n",
    "}\n",
    "all.cv[-c(1, 2)]"
   ]
  },
  {
   "cell_type": "markdown",
   "metadata": {},
   "source": [
    "Train RSS monotonically decreases till df=14 and then slightly increases for df=15 and df=16."
   ]
  },
  {
   "cell_type": "markdown",
   "metadata": {},
   "source": [
    "### part f"
   ]
  },
  {
   "cell_type": "code",
   "execution_count": 45,
   "metadata": {},
   "outputs": [
    {
     "name": "stderr",
     "output_type": "stream",
     "text": [
      "Warning message in bs(dis, degree = 3L, knots = numeric(0), Boundary.knots = c(1.1296, :\n",
      "\"some 'x' values beyond boundary knots may cause ill-conditioned bases\"Warning message in bs(dis, degree = 3L, knots = numeric(0), Boundary.knots = c(1.1296, :\n",
      "\"some 'x' values beyond boundary knots may cause ill-conditioned bases\"Warning message in bs(dis, degree = 3L, knots = numeric(0), Boundary.knots = c(1.137, :\n",
      "\"some 'x' values beyond boundary knots may cause ill-conditioned bases\"Warning message in bs(dis, degree = 3L, knots = numeric(0), Boundary.knots = c(1.137, :\n",
      "\"some 'x' values beyond boundary knots may cause ill-conditioned bases\"Warning message in bs(dis, degree = 3L, knots = c(`50%` = 3.0992), Boundary.knots = c(1.137, :\n",
      "\"some 'x' values beyond boundary knots may cause ill-conditioned bases\"Warning message in bs(dis, degree = 3L, knots = c(`50%` = 3.0992), Boundary.knots = c(1.137, :\n",
      "\"some 'x' values beyond boundary knots may cause ill-conditioned bases\"Warning message in bs(dis, degree = 3L, knots = c(`50%` = 3.2157), Boundary.knots = c(1.1296, :\n",
      "\"some 'x' values beyond boundary knots may cause ill-conditioned bases\"Warning message in bs(dis, degree = 3L, knots = c(`50%` = 3.2157), Boundary.knots = c(1.1296, :\n",
      "\"some 'x' values beyond boundary knots may cause ill-conditioned bases\"Warning message in bs(dis, degree = 3L, knots = c(`33.33333%` = 2.354, `66.66667%` = 4.2474:\n",
      "\"some 'x' values beyond boundary knots may cause ill-conditioned bases\"Warning message in bs(dis, degree = 3L, knots = c(`33.33333%` = 2.354, `66.66667%` = 4.2474:\n",
      "\"some 'x' values beyond boundary knots may cause ill-conditioned bases\"Warning message in bs(dis, degree = 3L, knots = c(`33.33333%` = 2.4212, `66.66667%` = 4.38856666666667:\n",
      "\"some 'x' values beyond boundary knots may cause ill-conditioned bases\"Warning message in bs(dis, degree = 3L, knots = c(`33.33333%` = 2.4212, `66.66667%` = 4.38856666666667:\n",
      "\"some 'x' values beyond boundary knots may cause ill-conditioned bases\"Warning message in bs(dis, degree = 3L, knots = c(`25%` = 2.1105, `50%` = 3.2721, :\n",
      "\"some 'x' values beyond boundary knots may cause ill-conditioned bases\"Warning message in bs(dis, degree = 3L, knots = c(`25%` = 2.1105, `50%` = 3.2721, :\n",
      "\"some 'x' values beyond boundary knots may cause ill-conditioned bases\"Warning message in bs(dis, degree = 3L, knots = c(`25%` = 2.1, `50%` = 3.1323, `75%` = 5.118:\n",
      "\"some 'x' values beyond boundary knots may cause ill-conditioned bases\"Warning message in bs(dis, degree = 3L, knots = c(`25%` = 2.1, `50%` = 3.1323, `75%` = 5.118:\n",
      "\"some 'x' values beyond boundary knots may cause ill-conditioned bases\"Warning message in bs(dis, degree = 3L, knots = c(`20%` = 1.92938, `40%` = 2.55946, :\n",
      "\"some 'x' values beyond boundary knots may cause ill-conditioned bases\"Warning message in bs(dis, degree = 3L, knots = c(`20%` = 1.92938, `40%` = 2.55946, :\n",
      "\"some 'x' values beyond boundary knots may cause ill-conditioned bases\"Warning message in bs(dis, degree = 3L, knots = c(`20%` = 1.93736, `40%` = 2.59666, :\n",
      "\"some 'x' values beyond boundary knots may cause ill-conditioned bases\"Warning message in bs(dis, degree = 3L, knots = c(`20%` = 1.93736, `40%` = 2.59666, :\n",
      "\"some 'x' values beyond boundary knots may cause ill-conditioned bases\"Warning message in bs(dis, degree = 3L, knots = c(`16.66667%` = 1.86156666666667, :\n",
      "\"some 'x' values beyond boundary knots may cause ill-conditioned bases\"Warning message in bs(dis, degree = 3L, knots = c(`16.66667%` = 1.86156666666667, :\n",
      "\"some 'x' values beyond boundary knots may cause ill-conditioned bases\"Warning message in bs(dis, degree = 3L, knots = c(`14.28571%` = 1.79777142857143, :\n",
      "\"some 'x' values beyond boundary knots may cause ill-conditioned bases\"Warning message in bs(dis, degree = 3L, knots = c(`14.28571%` = 1.79777142857143, :\n",
      "\"some 'x' values beyond boundary knots may cause ill-conditioned bases\"Warning message in bs(dis, degree = 3L, knots = c(`14.28571%` = 1.7936, `28.57143%` = 2.16771428571429, :\n",
      "\"some 'x' values beyond boundary knots may cause ill-conditioned bases\"Warning message in bs(dis, degree = 3L, knots = c(`14.28571%` = 1.7936, `28.57143%` = 2.16771428571429, :\n",
      "\"some 'x' values beyond boundary knots may cause ill-conditioned bases\"Warning message in bs(dis, degree = 3L, knots = c(`12.5%` = 1.734325, `25%` = 2.0941, :\n",
      "\"some 'x' values beyond boundary knots may cause ill-conditioned bases\"Warning message in bs(dis, degree = 3L, knots = c(`12.5%` = 1.734325, `25%` = 2.0941, :\n",
      "\"some 'x' values beyond boundary knots may cause ill-conditioned bases\"Warning message in bs(dis, degree = 3L, knots = c(`12.5%` = 1.751575, `25%` = 2.1084, :\n",
      "\"some 'x' values beyond boundary knots may cause ill-conditioned bases\"Warning message in bs(dis, degree = 3L, knots = c(`12.5%` = 1.751575, `25%` = 2.1084, :\n",
      "\"some 'x' values beyond boundary knots may cause ill-conditioned bases\"Warning message in bs(dis, degree = 3L, knots = c(`11.11111%` = 1.71552222222222, :\n",
      "\"some 'x' values beyond boundary knots may cause ill-conditioned bases\"Warning message in bs(dis, degree = 3L, knots = c(`11.11111%` = 1.71552222222222, :\n",
      "\"some 'x' values beyond boundary knots may cause ill-conditioned bases\"Warning message in bs(dis, degree = 3L, knots = c(`11.11111%` = 1.66286666666667, :\n",
      "\"some 'x' values beyond boundary knots may cause ill-conditioned bases\"Warning message in bs(dis, degree = 3L, knots = c(`11.11111%` = 1.66286666666667, :\n",
      "\"some 'x' values beyond boundary knots may cause ill-conditioned bases\"Warning message in bs(dis, degree = 3L, knots = c(`10%` = 1.62008, `20%` = 1.92938, :\n",
      "\"some 'x' values beyond boundary knots may cause ill-conditioned bases\"Warning message in bs(dis, degree = 3L, knots = c(`10%` = 1.62008, `20%` = 1.92938, :\n",
      "\"some 'x' values beyond boundary knots may cause ill-conditioned bases\"Warning message in bs(dis, degree = 3L, knots = c(`10%` = 1.6283, `20%` = 1.9512, :\n",
      "\"some 'x' values beyond boundary knots may cause ill-conditioned bases\"Warning message in bs(dis, degree = 3L, knots = c(`10%` = 1.6283, `20%` = 1.9512, :\n",
      "\"some 'x' values beyond boundary knots may cause ill-conditioned bases\"Warning message in bs(dis, degree = 3L, knots = c(`9.090909%` = 1.61225454545455, :\n",
      "\"some 'x' values beyond boundary knots may cause ill-conditioned bases\"Warning message in bs(dis, degree = 3L, knots = c(`9.090909%` = 1.61225454545455, :\n",
      "\"some 'x' values beyond boundary knots may cause ill-conditioned bases\"Warning message in bs(dis, degree = 3L, knots = c(`9.090909%` = 1.61066363636364, :\n",
      "\"some 'x' values beyond boundary knots may cause ill-conditioned bases\"Warning message in bs(dis, degree = 3L, knots = c(`9.090909%` = 1.61066363636364, :\n",
      "\"some 'x' values beyond boundary knots may cause ill-conditioned bases\"Warning message in bs(dis, degree = 3L, knots = c(`8.333333%` = 1.60476666666667, :\n",
      "\"some 'x' values beyond boundary knots may cause ill-conditioned bases\"Warning message in bs(dis, degree = 3L, knots = c(`8.333333%` = 1.60476666666667, :\n",
      "\"some 'x' values beyond boundary knots may cause ill-conditioned bases\"Warning message in bs(dis, degree = 3L, knots = c(`8.333333%` = 1.5881, `16.66667%` = 1.82231666666667, :\n",
      "\"some 'x' values beyond boundary knots may cause ill-conditioned bases\"Warning message in bs(dis, degree = 3L, knots = c(`8.333333%` = 1.5881, `16.66667%` = 1.82231666666667, :\n",
      "\"some 'x' values beyond boundary knots may cause ill-conditioned bases\"Warning message in bs(dis, degree = 3L, knots = c(`7.692308%` = 1.58949230769231, :\n",
      "\"some 'x' values beyond boundary knots may cause ill-conditioned bases\"Warning message in bs(dis, degree = 3L, knots = c(`7.692308%` = 1.58949230769231, :\n",
      "\"some 'x' values beyond boundary knots may cause ill-conditioned bases\"Warning message in bs(dis, degree = 3L, knots = c(`7.692308%` = 1.5741, `15.38462%` = 1.8209, :\n",
      "\"some 'x' values beyond boundary knots may cause ill-conditioned bases\"Warning message in bs(dis, degree = 3L, knots = c(`7.692308%` = 1.5741, `15.38462%` = 1.8209, :\n",
      "\"some 'x' values beyond boundary knots may cause ill-conditioned bases\"Warning message in bs(dis, degree = 3L, knots = c(`7.142857%` = 1.54201428571429, :\n",
      "\"some 'x' values beyond boundary knots may cause ill-conditioned bases\"Warning message in bs(dis, degree = 3L, knots = c(`7.142857%` = 1.54201428571429, :\n"
     ]
    },
    {
     "name": "stderr",
     "output_type": "stream",
     "text": [
      "\"some 'x' values beyond boundary knots may cause ill-conditioned bases\"Warning message in bs(dis, degree = 3L, knots = c(`7.142857%` = 1.5768, `14.28571%` = 1.81652857142857, :\n",
      "\"some 'x' values beyond boundary knots may cause ill-conditioned bases\"Warning message in bs(dis, degree = 3L, knots = c(`7.142857%` = 1.5768, `14.28571%` = 1.81652857142857, :\n",
      "\"some 'x' values beyond boundary knots may cause ill-conditioned bases\""
     ]
    }
   ],
   "source": [
    "all.cv = rep(NA, 16)\n",
    "for (i in 3:16) {\n",
    "    lm.fit = glm(nox ~ bs(dis, df = i), data = Boston)\n",
    "    all.cv[i] = cv.glm(Boston, lm.fit, K = 10)$delta[2]\n",
    "}"
   ]
  },
  {
   "cell_type": "code",
   "execution_count": 46,
   "metadata": {},
   "outputs": [
    {
     "data": {
      "image/png": "[encoded data removed]",
      "text/plain": [
       "plot without title"
      ]
     },
     "metadata": {},
     "output_type": "display_data"
    }
   ],
   "source": [
    "plot(3:16, all.cv[-c(1, 2)], lwd = 2, type = \"l\", xlab = \"df\", ylab = \"CV error\")"
   ]
  },
  {
   "cell_type": "markdown",
   "metadata": {},
   "source": [
    "CV error is more jumpy in this case, but attains minimum at df=10. We pick 10 as the optimal degrees of freedom."
   ]
  },
  {
   "cell_type": "markdown",
   "metadata": {},
   "source": [
    "## Chapter 7 - Exercise 10"
   ]
  },
  {
   "cell_type": "markdown",
   "metadata": {},
   "source": [
    "### part a"
   ]
  },
  {
   "cell_type": "code",
   "execution_count": 47,
   "metadata": {},
   "outputs": [
    {
     "name": "stdout",
     "output_type": "stream",
     "text": [
      "package 'leaps' successfully unpacked and MD5 sums checked\n",
      "\n",
      "The downloaded binary packages are in\n",
      "\tC:\\Users\\feledu1\\AppData\\Local\\Temp\\Rtmpm6NNDF\\downloaded_packages\n"
     ]
    },
    {
     "name": "stderr",
     "output_type": "stream",
     "text": [
      "Warning message:\n",
      "\"package 'leaps' was built under R version 3.6.3\""
     ]
    },
    {
     "data": {
      "image/png": "[encoded data removed]",
      "text/plain": [
       "plot without title"
      ]
     },
     "metadata": {},
     "output_type": "display_data"
    }
   ],
   "source": [
    "install.packages(\"leaps\")\n",
    "set.seed(1)\n",
    "library(ISLR)\n",
    "library(leaps)\n",
    "attach(College)\n",
    "train = sample(length(Outstate), length(Outstate)/2)\n",
    "test = -train\n",
    "College.train = College[train, ]\n",
    "College.test = College[test, ]\n",
    "reg.fit = regsubsets(Outstate ~ ., data = College.train, nvmax = 17, method = \"forward\")\n",
    "reg.summary = summary(reg.fit)\n",
    "par(mfrow = c(1, 3))\n",
    "plot(reg.summary$cp, xlab = \"Number of Variables\", ylab = \"Cp\", type = \"l\")\n",
    "min.cp = min(reg.summary$cp)\n",
    "std.cp = sd(reg.summary$cp)\n",
    "abline(h = min.cp + 0.2 * std.cp, col = \"red\", lty = 2)\n",
    "abline(h = min.cp - 0.2 * std.cp, col = \"red\", lty = 2)\n",
    "plot(reg.summary$bic, xlab = \"Number of Variables\", ylab = \"BIC\", type = \"l\")\n",
    "min.bic = min(reg.summary$bic)\n",
    "std.bic = sd(reg.summary$bic)\n",
    "abline(h = min.bic + 0.2 * std.bic, col = \"red\", lty = 2)\n",
    "abline(h = min.bic - 0.2 * std.bic, col = \"red\", lty = 2)\n",
    "plot(reg.summary$adjr2, xlab = \"Number of Variables\", ylab = \"Adjusted R2\", \n",
    "    type = \"l\", ylim = c(0.4, 0.84))\n",
    "max.adjr2 = max(reg.summary$adjr2)\n",
    "std.adjr2 = sd(reg.summary$adjr2)\n",
    "abline(h = max.adjr2 + 0.2 * std.adjr2, col = \"red\", lty = 2)\n",
    "abline(h = max.adjr2 - 0.2 * std.adjr2, col = \"red\", lty = 2)"
   ]
  },
  {
   "cell_type": "markdown",
   "metadata": {},
   "source": [
    "All cp, BIC and adjr2 scores show that size 6 is the minimum size for the subset for which the scores are withing 0.2 standard deviations of optimum. We pick 6 as the best subset size and find best 6 variables using entire data."
   ]
  },
  {
   "cell_type": "code",
   "execution_count": 48,
   "metadata": {},
   "outputs": [
    {
     "data": {
      "text/html": [
       "<ol class=list-inline>\n",
       "\t<li>'(Intercept)'</li>\n",
       "\t<li>'PrivateYes'</li>\n",
       "\t<li>'Room.Board'</li>\n",
       "\t<li>'PhD'</li>\n",
       "\t<li>'perc.alumni'</li>\n",
       "\t<li>'Expend'</li>\n",
       "\t<li>'Grad.Rate'</li>\n",
       "</ol>\n"
      ],
      "text/latex": [
       "\\begin{enumerate*}\n",
       "\\item '(Intercept)'\n",
       "\\item 'PrivateYes'\n",
       "\\item 'Room.Board'\n",
       "\\item 'PhD'\n",
       "\\item 'perc.alumni'\n",
       "\\item 'Expend'\n",
       "\\item 'Grad.Rate'\n",
       "\\end{enumerate*}\n"
      ],
      "text/markdown": [
       "1. '(Intercept)'\n",
       "2. 'PrivateYes'\n",
       "3. 'Room.Board'\n",
       "4. 'PhD'\n",
       "5. 'perc.alumni'\n",
       "6. 'Expend'\n",
       "7. 'Grad.Rate'\n",
       "\n",
       "\n"
      ],
      "text/plain": [
       "[1] \"(Intercept)\" \"PrivateYes\"  \"Room.Board\"  \"PhD\"         \"perc.alumni\"\n",
       "[6] \"Expend\"      \"Grad.Rate\"  "
      ]
     },
     "metadata": {},
     "output_type": "display_data"
    }
   ],
   "source": [
    "reg.fit = regsubsets(Outstate ~ ., data = College, method = \"forward\")\n",
    "coefi = coef(reg.fit, id = 6)\n",
    "names(coefi)"
   ]
  },
  {
   "cell_type": "markdown",
   "metadata": {},
   "source": [
    "### part b"
   ]
  },
  {
   "cell_type": "code",
   "execution_count": 49,
   "metadata": {},
   "outputs": [
    {
     "name": "stdout",
     "output_type": "stream",
     "text": [
      "\n",
      "  There is a binary version available but the source version is later:\n",
      "    binary source needs_compilation\n",
      "gam 1.16.1   1.20              TRUE\n",
      "\n",
      "  Binaries will be installed\n",
      "package 'gam' successfully unpacked and MD5 sums checked\n",
      "\n",
      "The downloaded binary packages are in\n",
      "\tC:\\Users\\feledu1\\AppData\\Local\\Temp\\Rtmpm6NNDF\\downloaded_packages\n"
     ]
    },
    {
     "name": "stderr",
     "output_type": "stream",
     "text": [
      "Warning message:\n",
      "\"package 'gam' was built under R version 3.6.3\"Loading required package: foreach\n",
      "Warning message:\n",
      "\"package 'foreach' was built under R version 3.6.3\"Loaded gam 1.16.1\n",
      "\n"
     ]
    }
   ],
   "source": [
    "install.packages(\"gam\")\n",
    "library(gam)"
   ]
  },
  {
   "cell_type": "code",
   "execution_count": 50,
   "metadata": {},
   "outputs": [
    {
     "name": "stderr",
     "output_type": "stream",
     "text": [
      "Warning message in model.matrix.default(mt, mf, contrasts):\n",
      "\"non-list contrasts argument ignored\""
     ]
    },
    {
     "data": {
      "image/png": "[encoded data removed]",
      "text/plain": [
       "plot without title"
      ]
     },
     "metadata": {},
     "output_type": "display_data"
    }
   ],
   "source": [
    "gam.fit = gam(Outstate ~ Private + s(Room.Board, df = 2) + s(PhD, df = 2) + \n",
    "    s(perc.alumni, df = 2) + s(Expend, df = 5) + s(Grad.Rate, df = 2), data = College.train)\n",
    "par(mfrow = c(2, 3))\n",
    "plot(gam.fit, se = T, col = \"blue\")"
   ]
  },
  {
   "cell_type": "markdown",
   "metadata": {},
   "source": [
    "### part c"
   ]
  },
  {
   "cell_type": "code",
   "execution_count": 51,
   "metadata": {},
   "outputs": [
    {
     "data": {
      "text/html": [
       "3349290.24577041"
      ],
      "text/latex": [
       "3349290.24577041"
      ],
      "text/markdown": [
       "3349290.24577041"
      ],
      "text/plain": [
       "[1] 3349290"
      ]
     },
     "metadata": {},
     "output_type": "display_data"
    }
   ],
   "source": [
    "gam.pred = predict(gam.fit, College.test)\n",
    "gam.err = mean((College.test$Outstate - gam.pred)^2)\n",
    "gam.err"
   ]
  },
  {
   "cell_type": "code",
   "execution_count": 52,
   "metadata": {},
   "outputs": [
    {
     "data": {
      "text/html": [
       "0.766001611846921"
      ],
      "text/latex": [
       "0.766001611846921"
      ],
      "text/markdown": [
       "0.766001611846921"
      ],
      "text/plain": [
       "[1] 0.7660016"
      ]
     },
     "metadata": {},
     "output_type": "display_data"
    }
   ],
   "source": [
    "gam.tss = mean((College.test$Outstate - mean(College.test$Outstate))^2)\n",
    "test.rss = 1 - gam.err/gam.tss\n",
    "test.rss"
   ]
  },
  {
   "cell_type": "markdown",
   "metadata": {},
   "source": [
    "We obtain a test R-squared of 0.77 using GAM with 6 predictors. This is a slight improvement over a test RSS of 0.74 obtained using OLS."
   ]
  },
  {
   "cell_type": "markdown",
   "metadata": {},
   "source": [
    "### part d"
   ]
  },
  {
   "cell_type": "code",
   "execution_count": 53,
   "metadata": {},
   "outputs": [
    {
     "data": {
      "text/plain": [
       "\n",
       "Call: gam(formula = Outstate ~ Private + s(Room.Board, df = 2) + s(PhD, \n",
       "    df = 2) + s(perc.alumni, df = 2) + s(Expend, df = 5) + s(Grad.Rate, \n",
       "    df = 2), data = College.train)\n",
       "Deviance Residuals:\n",
       "     Min       1Q   Median       3Q      Max \n",
       "-7402.89 -1114.45   -12.67  1282.69  7470.60 \n",
       "\n",
       "(Dispersion Parameter for gaussian family taken to be 3711182)\n",
       "\n",
       "    Null Deviance: 6989966760 on 387 degrees of freedom\n",
       "Residual Deviance: 1384271126 on 373 degrees of freedom\n",
       "AIC: 6987.021 \n",
       "\n",
       "Number of Local Scoring Iterations: 2 \n",
       "\n",
       "Anova for Parametric Effects\n",
       "                        Df     Sum Sq    Mean Sq F value    Pr(>F)    \n",
       "Private                  1 1778718277 1778718277 479.286 < 2.2e-16 ***\n",
       "s(Room.Board, df = 2)    1 1577115244 1577115244 424.963 < 2.2e-16 ***\n",
       "s(PhD, df = 2)           1  322431195  322431195  86.881 < 2.2e-16 ***\n",
       "s(perc.alumni, df = 2)   1  336869281  336869281  90.771 < 2.2e-16 ***\n",
       "s(Expend, df = 5)        1  530538753  530538753 142.957 < 2.2e-16 ***\n",
       "s(Grad.Rate, df = 2)     1   86504998   86504998  23.309 2.016e-06 ***\n",
       "Residuals              373 1384271126    3711182                      \n",
       "---\n",
       "Signif. codes:  0 '***' 0.001 '**' 0.01 '*' 0.05 '.' 0.1 ' ' 1\n",
       "\n",
       "Anova for Nonparametric Effects\n",
       "                       Npar Df  Npar F     Pr(F)    \n",
       "(Intercept)                                         \n",
       "Private                                             \n",
       "s(Room.Board, df = 2)        1  1.9157    0.1672    \n",
       "s(PhD, df = 2)               1  0.9699    0.3253    \n",
       "s(perc.alumni, df = 2)       1  0.1859    0.6666    \n",
       "s(Expend, df = 5)            4 20.5075 2.665e-15 ***\n",
       "s(Grad.Rate, df = 2)         1  0.5702    0.4506    \n",
       "---\n",
       "Signif. codes:  0 '***' 0.001 '**' 0.01 '*' 0.05 '.' 0.1 ' ' 1"
      ]
     },
     "metadata": {},
     "output_type": "display_data"
    }
   ],
   "source": [
    "summary(gam.fit)"
   ]
  },
  {
   "cell_type": "markdown",
   "metadata": {},
   "source": [
    "Non-parametric Anova test shows a strong evidence of non-linear relationship between response and Expend, and a moderately strong non-linear relationship (using p value of 0.05) between response and Grad.Rate or PhD."
   ]
  }
 ],
 "metadata": {
  "kernelspec": {
   "display_name": "R",
   "language": "R",
   "name": "ir"
  },
  "language_info": {
   "codemirror_mode": "r",
   "file_extension": ".r",
   "mimetype": "text/x-r-source",
   "name": "R",
   "pygments_lexer": "r",
   "version": "3.6.1"
  }
 },
 "nbformat": 4,
 "nbformat_minor": 2
}
