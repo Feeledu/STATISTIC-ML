{
 "cells": [
  {
   "cell_type": "markdown",
   "metadata": {},
   "source": [
    "## Homework\n",
    "- Exercise 2 (p.52, Chap.2), 10 (p.56, Chap.2), 3 (p.120, Chap.3), 10 (p.123, Chap.3) and 15 (p.126, Chap.3)."
   ]
  },
  {
   "cell_type": "markdown",
   "metadata": {},
   "source": [
    "## Exercise 2 p.52"
   ]
  },
  {
   "cell_type": "markdown",
   "metadata": {},
   "source": [
    "### a"
   ]
  },
  {
   "cell_type": "markdown",
   "metadata": {},
   "source": [
    "Regression problem. Here we are most interested in inference."
   ]
  },
  {
   "cell_type": "markdown",
   "metadata": {},
   "source": [
    "n = 500 observations, p = profit, number of employees, industry"
   ]
  },
  {
   "cell_type": "markdown",
   "metadata": {},
   "source": [
    "### b"
   ]
  },
  {
   "cell_type": "markdown",
   "metadata": {},
   "source": [
    "Classification problem. Here we are interested in predicting either of 2 possible outcomes (Success or failure)."
   ]
  },
  {
   "cell_type": "markdown",
   "metadata": {},
   "source": [
    "n = 20 observations, p = price charged for the product, marketing budget, competition price and ten other variables"
   ]
  },
  {
   "cell_type": "markdown",
   "metadata": {},
   "source": [
    "### c"
   ]
  },
  {
   "cell_type": "markdown",
   "metadata": {},
   "source": [
    "Regression problem. Here we are interested in inference. "
   ]
  },
  {
   "cell_type": "markdown",
   "metadata": {},
   "source": [
    "n = 52 observations, p = % change in Usd/Euro, % change in US market, % change in British market, % change in German market"
   ]
  },
  {
   "cell_type": "markdown",
   "metadata": {},
   "source": [
    "## Exercise 10 p.56"
   ]
  },
  {
   "cell_type": "markdown",
   "metadata": {},
   "source": [
    "### a"
   ]
  },
  {
   "cell_type": "code",
   "execution_count": 2,
   "metadata": {},
   "outputs": [
    {
     "name": "stderr",
     "output_type": "stream",
     "text": [
      "Warning message:\n",
      "\"package 'MASS' was built under R version 3.6.3\""
     ]
    }
   ],
   "source": [
    "library(MASS)"
   ]
  },
  {
   "cell_type": "code",
   "execution_count": 4,
   "metadata": {},
   "outputs": [
    {
     "data": {
      "text/html": [
       "<table>\n",
       "<thead><tr><th scope=col>crim</th><th scope=col>zn</th><th scope=col>indus</th><th scope=col>chas</th><th scope=col>nox</th><th scope=col>rm</th><th scope=col>age</th><th scope=col>dis</th><th scope=col>rad</th><th scope=col>tax</th><th scope=col>ptratio</th><th scope=col>black</th><th scope=col>lstat</th><th scope=col>medv</th></tr></thead>\n",
       "<tbody>\n",
       "\t<tr><td>0.00632</td><td>18     </td><td>2.31   </td><td>0      </td><td>0.538  </td><td>6.575  </td><td>65.2   </td><td>4.0900 </td><td>1      </td><td>296    </td><td>15.3   </td><td>396.9  </td><td>4.98   </td><td>24.0   </td></tr>\n",
       "\t<tr><td>0.02731</td><td> 0     </td><td>7.07   </td><td>0      </td><td>0.469  </td><td>6.421  </td><td>78.9   </td><td>4.9671 </td><td>2      </td><td>242    </td><td>17.8   </td><td>396.9  </td><td>9.14   </td><td>21.6   </td></tr>\n",
       "</tbody>\n",
       "</table>\n"
      ],
      "text/latex": [
       "\\begin{tabular}{r|llllllllllllll}\n",
       " crim & zn & indus & chas & nox & rm & age & dis & rad & tax & ptratio & black & lstat & medv\\\\\n",
       "\\hline\n",
       "\t 0.00632 & 18      & 2.31    & 0       & 0.538   & 6.575   & 65.2    & 4.0900  & 1       & 296     & 15.3    & 396.9   & 4.98    & 24.0   \\\\\n",
       "\t 0.02731 &  0      & 7.07    & 0       & 0.469   & 6.421   & 78.9    & 4.9671  & 2       & 242     & 17.8    & 396.9   & 9.14    & 21.6   \\\\\n",
       "\\end{tabular}\n"
      ],
      "text/markdown": [
       "\n",
       "| crim | zn | indus | chas | nox | rm | age | dis | rad | tax | ptratio | black | lstat | medv |\n",
       "|---|---|---|---|---|---|---|---|---|---|---|---|---|---|\n",
       "| 0.00632 | 18      | 2.31    | 0       | 0.538   | 6.575   | 65.2    | 4.0900  | 1       | 296     | 15.3    | 396.9   | 4.98    | 24.0    |\n",
       "| 0.02731 |  0      | 7.07    | 0       | 0.469   | 6.421   | 78.9    | 4.9671  | 2       | 242     | 17.8    | 396.9   | 9.14    | 21.6    |\n",
       "\n"
      ],
      "text/plain": [
       "  crim    zn indus chas nox   rm    age  dis    rad tax ptratio black lstat\n",
       "1 0.00632 18 2.31  0    0.538 6.575 65.2 4.0900 1   296 15.3    396.9 4.98 \n",
       "2 0.02731  0 7.07  0    0.469 6.421 78.9 4.9671 2   242 17.8    396.9 9.14 \n",
       "  medv\n",
       "1 24.0\n",
       "2 21.6"
      ]
     },
     "metadata": {},
     "output_type": "display_data"
    }
   ],
   "source": [
    "head(Boston,2)"
   ]
  },
  {
   "cell_type": "code",
   "execution_count": 6,
   "metadata": {},
   "outputs": [],
   "source": [
    "?Boston"
   ]
  },
  {
   "cell_type": "markdown",
   "metadata": {},
   "source": [
    "506 rows | 14 columns.\n",
    "The Rows represent observations from different parameters about Boston suburb area.\n",
    "The Columns represent the descriptive parameters."
   ]
  },
  {
   "cell_type": "markdown",
   "metadata": {},
   "source": [
    "### b"
   ]
  },
  {
   "cell_type": "code",
   "execution_count": 9,
   "metadata": {},
   "outputs": [
    {
     "data": {
      "image/png": "[encoded data removed]",
      "text/plain": [
       "plot without title"
      ]
     },
     "metadata": {},
     "output_type": "display_data"
    }
   ],
   "source": [
    "pairs(Boston)"
   ]
  },
  {
   "cell_type": "markdown",
   "metadata": {},
   "source": [
    "### c"
   ]
  },
  {
   "cell_type": "code",
   "execution_count": 13,
   "metadata": {},
   "outputs": [
    {
     "data": {
      "text/html": [
       "<ol class=list-inline>\n",
       "\t<li>'crim'</li>\n",
       "\t<li>'zn'</li>\n",
       "\t<li>'indus'</li>\n",
       "\t<li>'chas'</li>\n",
       "\t<li>'nox'</li>\n",
       "\t<li>'rm'</li>\n",
       "\t<li>'age'</li>\n",
       "\t<li>'dis'</li>\n",
       "\t<li>'rad'</li>\n",
       "\t<li>'tax'</li>\n",
       "\t<li>'ptratio'</li>\n",
       "\t<li>'black'</li>\n",
       "\t<li>'lstat'</li>\n",
       "\t<li>'medv'</li>\n",
       "</ol>\n"
      ],
      "text/latex": [
       "\\begin{enumerate*}\n",
       "\\item 'crim'\n",
       "\\item 'zn'\n",
       "\\item 'indus'\n",
       "\\item 'chas'\n",
       "\\item 'nox'\n",
       "\\item 'rm'\n",
       "\\item 'age'\n",
       "\\item 'dis'\n",
       "\\item 'rad'\n",
       "\\item 'tax'\n",
       "\\item 'ptratio'\n",
       "\\item 'black'\n",
       "\\item 'lstat'\n",
       "\\item 'medv'\n",
       "\\end{enumerate*}\n"
      ],
      "text/markdown": [
       "1. 'crim'\n",
       "2. 'zn'\n",
       "3. 'indus'\n",
       "4. 'chas'\n",
       "5. 'nox'\n",
       "6. 'rm'\n",
       "7. 'age'\n",
       "8. 'dis'\n",
       "9. 'rad'\n",
       "10. 'tax'\n",
       "11. 'ptratio'\n",
       "12. 'black'\n",
       "13. 'lstat'\n",
       "14. 'medv'\n",
       "\n",
       "\n"
      ],
      "text/plain": [
       " [1] \"crim\"    \"zn\"      \"indus\"   \"chas\"    \"nox\"     \"rm\"      \"age\"    \n",
       " [8] \"dis\"     \"rad\"     \"tax\"     \"ptratio\" \"black\"   \"lstat\"   \"medv\"   "
      ]
     },
     "metadata": {},
     "output_type": "display_data"
    }
   ],
   "source": [
    "colnames(Boston)"
   ]
  },
  {
   "cell_type": "code",
   "execution_count": 27,
   "metadata": {},
   "outputs": [
    {
     "data": {
      "image/png": "[encoded data removed]",
      "text/plain": [
       "plot without title"
      ]
     },
     "metadata": {},
     "output_type": "display_data"
    }
   ],
   "source": [
    "plot(Boston$lstat\n",
    "     , Boston$crim)"
   ]
  },
  {
   "cell_type": "code",
   "execution_count": 28,
   "metadata": {},
   "outputs": [],
   "source": [
    "# there is a slight positive correlation between lstat and crimerate."
   ]
  },
  {
   "cell_type": "markdown",
   "metadata": {},
   "source": [
    "### d"
   ]
  },
  {
   "cell_type": "code",
   "execution_count": 29,
   "metadata": {},
   "outputs": [
    {
     "data": {
      "image/png": "[encoded data removed]",
      "text/plain": [
       "Plot with title \"Histogram of Boston$crim\""
      ]
     },
     "metadata": {},
     "output_type": "display_data"
    }
   ],
   "source": [
    "hist(Boston$crim,breaks=20)\n",
    "#We can see that most of the cities have low crime number but almost 10 suburbs have a high crime rate of 50 and above"
   ]
  },
  {
   "cell_type": "code",
   "execution_count": 31,
   "metadata": {},
   "outputs": [
    {
     "data": {
      "image/png": "[encoded data removed]",
      "text/plain": [
       "Plot with title \"Histogram of Boston$tax\""
      ]
     },
     "metadata": {},
     "output_type": "display_data"
    }
   ],
   "source": [
    "hist(Boston$tax, breaks=20)\n",
    "# the taxes rates are distributed and we see that we have a very high peak compared to others at 680"
   ]
  },
  {
   "cell_type": "code",
   "execution_count": 32,
   "metadata": {},
   "outputs": [
    {
     "data": {
      "image/png": "[encoded data removed]",
      "text/plain": [
       "Plot with title \"Histogram of Boston$ptratio\""
      ]
     },
     "metadata": {},
     "output_type": "display_data"
    }
   ],
   "source": [
    "hist(Boston$ptratio, breaks=20)\n",
    "#We can notice a high peak at ratio 20 but the rest are distributed almost equally"
   ]
  },
  {
   "cell_type": "markdown",
   "metadata": {},
   "source": [
    "### e"
   ]
  },
  {
   "cell_type": "code",
   "execution_count": 33,
   "metadata": {},
   "outputs": [
    {
     "data": {
      "text/html": [
       "<ol class=list-inline>\n",
       "\t<li>35</li>\n",
       "\t<li>14</li>\n",
       "</ol>\n"
      ],
      "text/latex": [
       "\\begin{enumerate*}\n",
       "\\item 35\n",
       "\\item 14\n",
       "\\end{enumerate*}\n"
      ],
      "text/markdown": [
       "1. 35\n",
       "2. 14\n",
       "\n",
       "\n"
      ],
      "text/plain": [
       "[1] 35 14"
      ]
     },
     "metadata": {},
     "output_type": "display_data"
    }
   ],
   "source": [
    "dim(subset(Boston, chas == 1))\n",
    "# 35 suburbs"
   ]
  },
  {
   "cell_type": "markdown",
   "metadata": {},
   "source": [
    "### f"
   ]
  },
  {
   "cell_type": "code",
   "execution_count": 34,
   "metadata": {},
   "outputs": [
    {
     "data": {
      "text/html": [
       "19.05"
      ],
      "text/latex": [
       "19.05"
      ],
      "text/markdown": [
       "19.05"
      ],
      "text/plain": [
       "[1] 19.05"
      ]
     },
     "metadata": {},
     "output_type": "display_data"
    }
   ],
   "source": [
    "median(Boston$ptratio)\n",
    "# 19.05"
   ]
  },
  {
   "cell_type": "markdown",
   "metadata": {},
   "source": [
    "### part g"
   ]
  },
  {
   "cell_type": "code",
   "execution_count": 35,
   "metadata": {},
   "outputs": [
    {
     "data": {
      "text/html": [
       "<table>\n",
       "<thead><tr><th></th><th scope=col>399</th><th scope=col>406</th></tr></thead>\n",
       "<tbody>\n",
       "\t<tr><th scope=row>crim</th><td> 38.3518</td><td> 67.9208</td></tr>\n",
       "\t<tr><th scope=row>zn</th><td>  0.0000</td><td>  0.0000</td></tr>\n",
       "\t<tr><th scope=row>indus</th><td> 18.1000</td><td> 18.1000</td></tr>\n",
       "\t<tr><th scope=row>chas</th><td>  0.0000</td><td>  0.0000</td></tr>\n",
       "\t<tr><th scope=row>nox</th><td>  0.6930</td><td>  0.6930</td></tr>\n",
       "\t<tr><th scope=row>rm</th><td>  5.4530</td><td>  5.6830</td></tr>\n",
       "\t<tr><th scope=row>age</th><td>100.0000</td><td>100.0000</td></tr>\n",
       "\t<tr><th scope=row>dis</th><td>  1.4896</td><td>  1.4254</td></tr>\n",
       "\t<tr><th scope=row>rad</th><td> 24.0000</td><td> 24.0000</td></tr>\n",
       "\t<tr><th scope=row>tax</th><td>666.0000</td><td>666.0000</td></tr>\n",
       "\t<tr><th scope=row>ptratio</th><td> 20.2000</td><td> 20.2000</td></tr>\n",
       "\t<tr><th scope=row>black</th><td>396.9000</td><td>384.9700</td></tr>\n",
       "\t<tr><th scope=row>lstat</th><td> 30.5900</td><td> 22.9800</td></tr>\n",
       "\t<tr><th scope=row>medv</th><td>  5.0000</td><td>  5.0000</td></tr>\n",
       "</tbody>\n",
       "</table>\n"
      ],
      "text/latex": [
       "\\begin{tabular}{r|ll}\n",
       "  & 399 & 406\\\\\n",
       "\\hline\n",
       "\tcrim &  38.3518 &  67.9208\\\\\n",
       "\tzn &   0.0000 &   0.0000\\\\\n",
       "\tindus &  18.1000 &  18.1000\\\\\n",
       "\tchas &   0.0000 &   0.0000\\\\\n",
       "\tnox &   0.6930 &   0.6930\\\\\n",
       "\trm &   5.4530 &   5.6830\\\\\n",
       "\tage & 100.0000 & 100.0000\\\\\n",
       "\tdis &   1.4896 &   1.4254\\\\\n",
       "\trad &  24.0000 &  24.0000\\\\\n",
       "\ttax & 666.0000 & 666.0000\\\\\n",
       "\tptratio &  20.2000 &  20.2000\\\\\n",
       "\tblack & 396.9000 & 384.9700\\\\\n",
       "\tlstat &  30.5900 &  22.9800\\\\\n",
       "\tmedv &   5.0000 &   5.0000\\\\\n",
       "\\end{tabular}\n"
      ],
      "text/markdown": [
       "\n",
       "| <!--/--> | 399 | 406 |\n",
       "|---|---|---|\n",
       "| crim |  38.3518 |  67.9208 |\n",
       "| zn |   0.0000 |   0.0000 |\n",
       "| indus |  18.1000 |  18.1000 |\n",
       "| chas |   0.0000 |   0.0000 |\n",
       "| nox |   0.6930 |   0.6930 |\n",
       "| rm |   5.4530 |   5.6830 |\n",
       "| age | 100.0000 | 100.0000 |\n",
       "| dis |   1.4896 |   1.4254 |\n",
       "| rad |  24.0000 |  24.0000 |\n",
       "| tax | 666.0000 | 666.0000 |\n",
       "| ptratio |  20.2000 |  20.2000 |\n",
       "| black | 396.9000 | 384.9700 |\n",
       "| lstat |  30.5900 |  22.9800 |\n",
       "| medv |   5.0000 |   5.0000 |\n",
       "\n"
      ],
      "text/plain": [
       "        399      406     \n",
       "crim     38.3518  67.9208\n",
       "zn        0.0000   0.0000\n",
       "indus    18.1000  18.1000\n",
       "chas      0.0000   0.0000\n",
       "nox       0.6930   0.6930\n",
       "rm        5.4530   5.6830\n",
       "age     100.0000 100.0000\n",
       "dis       1.4896   1.4254\n",
       "rad      24.0000  24.0000\n",
       "tax     666.0000 666.0000\n",
       "ptratio  20.2000  20.2000\n",
       "black   396.9000 384.9700\n",
       "lstat    30.5900  22.9800\n",
       "medv      5.0000   5.0000"
      ]
     },
     "metadata": {},
     "output_type": "display_data"
    }
   ],
   "source": [
    "t(subset(Boston, medv == min(Boston$medv)))"
   ]
  },
  {
   "cell_type": "code",
   "execution_count": 36,
   "metadata": {},
   "outputs": [
    {
     "data": {
      "text/plain": [
       "      crim                zn             indus            chas        \n",
       " Min.   : 0.00632   Min.   :  0.00   Min.   : 0.46   Min.   :0.00000  \n",
       " 1st Qu.: 0.08204   1st Qu.:  0.00   1st Qu.: 5.19   1st Qu.:0.00000  \n",
       " Median : 0.25651   Median :  0.00   Median : 9.69   Median :0.00000  \n",
       " Mean   : 3.61352   Mean   : 11.36   Mean   :11.14   Mean   :0.06917  \n",
       " 3rd Qu.: 3.67708   3rd Qu.: 12.50   3rd Qu.:18.10   3rd Qu.:0.00000  \n",
       " Max.   :88.97620   Max.   :100.00   Max.   :27.74   Max.   :1.00000  \n",
       "      nox               rm             age              dis        \n",
       " Min.   :0.3850   Min.   :3.561   Min.   :  2.90   Min.   : 1.130  \n",
       " 1st Qu.:0.4490   1st Qu.:5.886   1st Qu.: 45.02   1st Qu.: 2.100  \n",
       " Median :0.5380   Median :6.208   Median : 77.50   Median : 3.207  \n",
       " Mean   :0.5547   Mean   :6.285   Mean   : 68.57   Mean   : 3.795  \n",
       " 3rd Qu.:0.6240   3rd Qu.:6.623   3rd Qu.: 94.08   3rd Qu.: 5.188  \n",
       " Max.   :0.8710   Max.   :8.780   Max.   :100.00   Max.   :12.127  \n",
       "      rad              tax           ptratio          black       \n",
       " Min.   : 1.000   Min.   :187.0   Min.   :12.60   Min.   :  0.32  \n",
       " 1st Qu.: 4.000   1st Qu.:279.0   1st Qu.:17.40   1st Qu.:375.38  \n",
       " Median : 5.000   Median :330.0   Median :19.05   Median :391.44  \n",
       " Mean   : 9.549   Mean   :408.2   Mean   :18.46   Mean   :356.67  \n",
       " 3rd Qu.:24.000   3rd Qu.:666.0   3rd Qu.:20.20   3rd Qu.:396.23  \n",
       " Max.   :24.000   Max.   :711.0   Max.   :22.00   Max.   :396.90  \n",
       "     lstat            medv      \n",
       " Min.   : 1.73   Min.   : 5.00  \n",
       " 1st Qu.: 6.95   1st Qu.:17.02  \n",
       " Median :11.36   Median :21.20  \n",
       " Mean   :12.65   Mean   :22.53  \n",
       " 3rd Qu.:16.95   3rd Qu.:25.00  \n",
       " Max.   :37.97   Max.   :50.00  "
      ]
     },
     "metadata": {},
     "output_type": "display_data"
    }
   ],
   "source": [
    "summary(Boston)"
   ]
  },
  {
   "cell_type": "markdown",
   "metadata": {},
   "source": [
    "### h"
   ]
  },
  {
   "cell_type": "code",
   "execution_count": 37,
   "metadata": {},
   "outputs": [
    {
     "data": {
      "text/html": [
       "<ol class=list-inline>\n",
       "\t<li>64</li>\n",
       "\t<li>14</li>\n",
       "</ol>\n"
      ],
      "text/latex": [
       "\\begin{enumerate*}\n",
       "\\item 64\n",
       "\\item 14\n",
       "\\end{enumerate*}\n"
      ],
      "text/markdown": [
       "1. 64\n",
       "2. 14\n",
       "\n",
       "\n"
      ],
      "text/plain": [
       "[1] 64 14"
      ]
     },
     "metadata": {},
     "output_type": "display_data"
    }
   ],
   "source": [
    "dim(subset(Boston, rm > 7))\n",
    "# 64"
   ]
  },
  {
   "cell_type": "code",
   "execution_count": 38,
   "metadata": {},
   "outputs": [
    {
     "data": {
      "text/html": [
       "<ol class=list-inline>\n",
       "\t<li>13</li>\n",
       "\t<li>14</li>\n",
       "</ol>\n"
      ],
      "text/latex": [
       "\\begin{enumerate*}\n",
       "\\item 13\n",
       "\\item 14\n",
       "\\end{enumerate*}\n"
      ],
      "text/markdown": [
       "1. 13\n",
       "2. 14\n",
       "\n",
       "\n"
      ],
      "text/plain": [
       "[1] 13 14"
      ]
     },
     "metadata": {},
     "output_type": "display_data"
    }
   ],
   "source": [
    "dim(subset(Boston, rm > 8))\n",
    "# 13"
   ]
  },
  {
   "cell_type": "code",
   "execution_count": 40,
   "metadata": {},
   "outputs": [
    {
     "data": {
      "text/plain": [
       "      crim               zn            indus             chas       \n",
       " Min.   :0.02009   Min.   : 0.00   Min.   : 2.680   Min.   :0.0000  \n",
       " 1st Qu.:0.33147   1st Qu.: 0.00   1st Qu.: 3.970   1st Qu.:0.0000  \n",
       " Median :0.52014   Median : 0.00   Median : 6.200   Median :0.0000  \n",
       " Mean   :0.71879   Mean   :13.62   Mean   : 7.078   Mean   :0.1538  \n",
       " 3rd Qu.:0.57834   3rd Qu.:20.00   3rd Qu.: 6.200   3rd Qu.:0.0000  \n",
       " Max.   :3.47428   Max.   :95.00   Max.   :19.580   Max.   :1.0000  \n",
       "      nox               rm             age             dis       \n",
       " Min.   :0.4161   Min.   :8.034   Min.   : 8.40   Min.   :1.801  \n",
       " 1st Qu.:0.5040   1st Qu.:8.247   1st Qu.:70.40   1st Qu.:2.288  \n",
       " Median :0.5070   Median :8.297   Median :78.30   Median :2.894  \n",
       " Mean   :0.5392   Mean   :8.349   Mean   :71.54   Mean   :3.430  \n",
       " 3rd Qu.:0.6050   3rd Qu.:8.398   3rd Qu.:86.50   3rd Qu.:3.652  \n",
       " Max.   :0.7180   Max.   :8.780   Max.   :93.90   Max.   :8.907  \n",
       "      rad              tax           ptratio          black      \n",
       " Min.   : 2.000   Min.   :224.0   Min.   :13.00   Min.   :354.6  \n",
       " 1st Qu.: 5.000   1st Qu.:264.0   1st Qu.:14.70   1st Qu.:384.5  \n",
       " Median : 7.000   Median :307.0   Median :17.40   Median :386.9  \n",
       " Mean   : 7.462   Mean   :325.1   Mean   :16.36   Mean   :385.2  \n",
       " 3rd Qu.: 8.000   3rd Qu.:307.0   3rd Qu.:17.40   3rd Qu.:389.7  \n",
       " Max.   :24.000   Max.   :666.0   Max.   :20.20   Max.   :396.9  \n",
       "     lstat           medv     \n",
       " Min.   :2.47   Min.   :21.9  \n",
       " 1st Qu.:3.32   1st Qu.:41.7  \n",
       " Median :4.14   Median :48.3  \n",
       " Mean   :4.31   Mean   :44.2  \n",
       " 3rd Qu.:5.12   3rd Qu.:50.0  \n",
       " Max.   :7.44   Max.   :50.0  "
      ]
     },
     "metadata": {},
     "output_type": "display_data"
    }
   ],
   "source": [
    "summary(subset(Boston, rm > 8))"
   ]
  },
  {
   "cell_type": "code",
   "execution_count": 41,
   "metadata": {},
   "outputs": [
    {
     "data": {
      "text/plain": [
       "      crim                zn             indus            chas        \n",
       " Min.   : 0.00632   Min.   :  0.00   Min.   : 0.46   Min.   :0.00000  \n",
       " 1st Qu.: 0.08204   1st Qu.:  0.00   1st Qu.: 5.19   1st Qu.:0.00000  \n",
       " Median : 0.25651   Median :  0.00   Median : 9.69   Median :0.00000  \n",
       " Mean   : 3.61352   Mean   : 11.36   Mean   :11.14   Mean   :0.06917  \n",
       " 3rd Qu.: 3.67708   3rd Qu.: 12.50   3rd Qu.:18.10   3rd Qu.:0.00000  \n",
       " Max.   :88.97620   Max.   :100.00   Max.   :27.74   Max.   :1.00000  \n",
       "      nox               rm             age              dis        \n",
       " Min.   :0.3850   Min.   :3.561   Min.   :  2.90   Min.   : 1.130  \n",
       " 1st Qu.:0.4490   1st Qu.:5.886   1st Qu.: 45.02   1st Qu.: 2.100  \n",
       " Median :0.5380   Median :6.208   Median : 77.50   Median : 3.207  \n",
       " Mean   :0.5547   Mean   :6.285   Mean   : 68.57   Mean   : 3.795  \n",
       " 3rd Qu.:0.6240   3rd Qu.:6.623   3rd Qu.: 94.08   3rd Qu.: 5.188  \n",
       " Max.   :0.8710   Max.   :8.780   Max.   :100.00   Max.   :12.127  \n",
       "      rad              tax           ptratio          black       \n",
       " Min.   : 1.000   Min.   :187.0   Min.   :12.60   Min.   :  0.32  \n",
       " 1st Qu.: 4.000   1st Qu.:279.0   1st Qu.:17.40   1st Qu.:375.38  \n",
       " Median : 5.000   Median :330.0   Median :19.05   Median :391.44  \n",
       " Mean   : 9.549   Mean   :408.2   Mean   :18.46   Mean   :356.67  \n",
       " 3rd Qu.:24.000   3rd Qu.:666.0   3rd Qu.:20.20   3rd Qu.:396.23  \n",
       " Max.   :24.000   Max.   :711.0   Max.   :22.00   Max.   :396.90  \n",
       "     lstat            medv      \n",
       " Min.   : 1.73   Min.   : 5.00  \n",
       " 1st Qu.: 6.95   1st Qu.:17.02  \n",
       " Median :11.36   Median :21.20  \n",
       " Mean   :12.65   Mean   :22.53  \n",
       " 3rd Qu.:16.95   3rd Qu.:25.00  \n",
       " Max.   :37.97   Max.   :50.00  "
      ]
     },
     "metadata": {},
     "output_type": "display_data"
    }
   ],
   "source": [
    "summary(Boston)"
   ]
  },
  {
   "cell_type": "markdown",
   "metadata": {},
   "source": [
    "## Exercise 3 p.120"
   ]
  },
  {
   "cell_type": "markdown",
   "metadata": {},
   "source": [
    "### a"
   ]
  },
  {
   "cell_type": "code",
   "execution_count": 44,
   "metadata": {},
   "outputs": [],
   "source": [
    "# Y = 50 + 20(gpa) + 0.07(iq) + 35(gender) + 0.01(gpa * iq) - 10 (gpa * gender)\n",
    "# Y = 50 + 20 k1 + 0.07 k2 + 35 gender + 0.01(k1 * k2) - 10 (k1 * gender)\n",
    "# male: (gender = 0)   50 + 20 k1 + 0.07 k2 + 0.01(k1 * k2)\n",
    "# female: (gender = 1) 50 + 20 k1 + 0.07 k2 + 35 + 0.01(k1 * k2) - 10 (k1)"
   ]
  },
  {
   "cell_type": "markdown",
   "metadata": {},
   "source": [
    "option iii:\n",
    "For a fixed value of IQ and GPA, males ear more on average than female provided that the GPA is high enough"
   ]
  },
  {
   "cell_type": "markdown",
   "metadata": {},
   "source": [
    "### b"
   ]
  },
  {
   "cell_type": "code",
   "execution_count": 45,
   "metadata": {},
   "outputs": [],
   "source": [
    "# Y(Gender = 1, IQ = 110, GPA = 4.0)\n",
    "# = 50 + 20 * 4 + 0.07 * 110 + 35 + 0.01 (4 * 110) - 10 * 4\n",
    "# = 137.1"
   ]
  },
  {
   "cell_type": "markdown",
   "metadata": {},
   "source": [
    "### c"
   ]
  },
  {
   "cell_type": "markdown",
   "metadata": {},
   "source": [
    "False. \n",
    "We must examine the p-value of the regression coefficient to determine if the \n",
    "interaction term is statistically significant or not."
   ]
  },
  {
   "cell_type": "markdown",
   "metadata": {},
   "source": [
    "## Exercise 10 p.123"
   ]
  },
  {
   "cell_type": "markdown",
   "metadata": {},
   "source": [
    "### a"
   ]
  },
  {
   "cell_type": "code",
   "execution_count": 46,
   "metadata": {},
   "outputs": [
    {
     "name": "stdout",
     "output_type": "stream",
     "text": [
      "package 'ISLR' successfully unpacked and MD5 sums checked\n",
      "\n",
      "The downloaded binary packages are in\n",
      "\tC:\\Users\\feledu1\\AppData\\Local\\Temp\\Rtmp0g3LVu\\downloaded_packages\n"
     ]
    }
   ],
   "source": [
    "install.packages(\"ISLR\")"
   ]
  },
  {
   "cell_type": "code",
   "execution_count": 47,
   "metadata": {},
   "outputs": [
    {
     "name": "stderr",
     "output_type": "stream",
     "text": [
      "Warning message:\n",
      "\"package 'ISLR' was built under R version 3.6.3\""
     ]
    }
   ],
   "source": [
    "library(ISLR)"
   ]
  },
  {
   "cell_type": "code",
   "execution_count": 48,
   "metadata": {},
   "outputs": [
    {
     "data": {
      "text/plain": [
       "     Sales          CompPrice       Income        Advertising    \n",
       " Min.   : 0.000   Min.   : 77   Min.   : 21.00   Min.   : 0.000  \n",
       " 1st Qu.: 5.390   1st Qu.:115   1st Qu.: 42.75   1st Qu.: 0.000  \n",
       " Median : 7.490   Median :125   Median : 69.00   Median : 5.000  \n",
       " Mean   : 7.496   Mean   :125   Mean   : 68.66   Mean   : 6.635  \n",
       " 3rd Qu.: 9.320   3rd Qu.:135   3rd Qu.: 91.00   3rd Qu.:12.000  \n",
       " Max.   :16.270   Max.   :175   Max.   :120.00   Max.   :29.000  \n",
       "   Population        Price        ShelveLoc        Age          Education   \n",
       " Min.   : 10.0   Min.   : 24.0   Bad   : 96   Min.   :25.00   Min.   :10.0  \n",
       " 1st Qu.:139.0   1st Qu.:100.0   Good  : 85   1st Qu.:39.75   1st Qu.:12.0  \n",
       " Median :272.0   Median :117.0   Medium:219   Median :54.50   Median :14.0  \n",
       " Mean   :264.8   Mean   :115.8                Mean   :53.32   Mean   :13.9  \n",
       " 3rd Qu.:398.5   3rd Qu.:131.0                3rd Qu.:66.00   3rd Qu.:16.0  \n",
       " Max.   :509.0   Max.   :191.0                Max.   :80.00   Max.   :18.0  \n",
       " Urban       US     \n",
       " No :118   No :142  \n",
       " Yes:282   Yes:258  \n",
       "                    \n",
       "                    \n",
       "                    \n",
       "                    "
      ]
     },
     "metadata": {},
     "output_type": "display_data"
    }
   ],
   "source": [
    "summary(Carseats)"
   ]
  },
  {
   "cell_type": "code",
   "execution_count": 49,
   "metadata": {},
   "outputs": [
    {
     "data": {
      "text/html": [
       "<table>\n",
       "<thead><tr><th scope=col>Sales</th><th scope=col>CompPrice</th><th scope=col>Income</th><th scope=col>Advertising</th><th scope=col>Population</th><th scope=col>Price</th><th scope=col>ShelveLoc</th><th scope=col>Age</th><th scope=col>Education</th><th scope=col>Urban</th><th scope=col>US</th></tr></thead>\n",
       "<tbody>\n",
       "\t<tr><td> 9.50</td><td>138  </td><td>73   </td><td>11   </td><td>276  </td><td>120  </td><td>Bad  </td><td>42   </td><td>17   </td><td>Yes  </td><td>Yes  </td></tr>\n",
       "\t<tr><td>11.22</td><td>111  </td><td>48   </td><td>16   </td><td>260  </td><td> 83  </td><td>Good </td><td>65   </td><td>10   </td><td>Yes  </td><td>Yes  </td></tr>\n",
       "</tbody>\n",
       "</table>\n"
      ],
      "text/latex": [
       "\\begin{tabular}{r|lllllllllll}\n",
       " Sales & CompPrice & Income & Advertising & Population & Price & ShelveLoc & Age & Education & Urban & US\\\\\n",
       "\\hline\n",
       "\t  9.50 & 138   & 73    & 11    & 276   & 120   & Bad   & 42    & 17    & Yes   & Yes  \\\\\n",
       "\t 11.22 & 111   & 48    & 16    & 260   &  83   & Good  & 65    & 10    & Yes   & Yes  \\\\\n",
       "\\end{tabular}\n"
      ],
      "text/markdown": [
       "\n",
       "| Sales | CompPrice | Income | Advertising | Population | Price | ShelveLoc | Age | Education | Urban | US |\n",
       "|---|---|---|---|---|---|---|---|---|---|---|\n",
       "|  9.50 | 138   | 73    | 11    | 276   | 120   | Bad   | 42    | 17    | Yes   | Yes   |\n",
       "| 11.22 | 111   | 48    | 16    | 260   |  83   | Good  | 65    | 10    | Yes   | Yes   |\n",
       "\n"
      ],
      "text/plain": [
       "  Sales CompPrice Income Advertising Population Price ShelveLoc Age Education\n",
       "1  9.50 138       73     11          276        120   Bad       42  17       \n",
       "2 11.22 111       48     16          260         83   Good      65  10       \n",
       "  Urban US \n",
       "1 Yes   Yes\n",
       "2 Yes   Yes"
      ]
     },
     "metadata": {},
     "output_type": "display_data"
    }
   ],
   "source": [
    "head(Carseats,2)"
   ]
  },
  {
   "cell_type": "code",
   "execution_count": 50,
   "metadata": {},
   "outputs": [],
   "source": [
    "attach(Carseats)"
   ]
  },
  {
   "cell_type": "code",
   "execution_count": 51,
   "metadata": {},
   "outputs": [],
   "source": [
    "lm.fit = lm(Sales~Price+Urban+US)"
   ]
  },
  {
   "cell_type": "code",
   "execution_count": 52,
   "metadata": {},
   "outputs": [
    {
     "data": {
      "text/plain": [
       "\n",
       "Call:\n",
       "lm(formula = Sales ~ Price + Urban + US)\n",
       "\n",
       "Residuals:\n",
       "    Min      1Q  Median      3Q     Max \n",
       "-6.9206 -1.6220 -0.0564  1.5786  7.0581 \n",
       "\n",
       "Coefficients:\n",
       "             Estimate Std. Error t value Pr(>|t|)    \n",
       "(Intercept) 13.043469   0.651012  20.036  < 2e-16 ***\n",
       "Price       -0.054459   0.005242 -10.389  < 2e-16 ***\n",
       "UrbanYes    -0.021916   0.271650  -0.081    0.936    \n",
       "USYes        1.200573   0.259042   4.635 4.86e-06 ***\n",
       "---\n",
       "Signif. codes:  0 '***' 0.001 '**' 0.01 '*' 0.05 '.' 0.1 ' ' 1\n",
       "\n",
       "Residual standard error: 2.472 on 396 degrees of freedom\n",
       "Multiple R-squared:  0.2393,\tAdjusted R-squared:  0.2335 \n",
       "F-statistic: 41.52 on 3 and 396 DF,  p-value: < 2.2e-16\n"
      ]
     },
     "metadata": {},
     "output_type": "display_data"
    }
   ],
   "source": [
    "summary(lm.fit)"
   ]
  },
  {
   "cell_type": "markdown",
   "metadata": {},
   "source": [
    "### b"
   ]
  },
  {
   "cell_type": "markdown",
   "metadata": {},
   "source": [
    "Price:\n",
    "The linear regression suggests a relationship between price and sales given the low p-value of the t-statistic. \n",
    "The coefficient states a negative relationship between Price and Sales: as Price increases, Sales decreases"
   ]
  },
  {
   "cell_type": "markdown",
   "metadata": {},
   "source": [
    "UrbanYes: The linear regression suggests that there isn’t a relationship between the location of the store and the number of sales based on the high p-value of the t-statistic."
   ]
  },
  {
   "cell_type": "markdown",
   "metadata": {},
   "source": [
    "USYes: \n",
    "The linear regression suggests there is a relationship between whether the store is in the US or not and the amount of sales. \n",
    "The coefficient states a positive relationship between USYes and Sales: if the store is in the US, the sales will increase by approximately 1201 units."
   ]
  },
  {
   "cell_type": "markdown",
   "metadata": {},
   "source": [
    "### c"
   ]
  },
  {
   "cell_type": "markdown",
   "metadata": {},
   "source": [
    "Sales = 13.04 + -0.05 Price + -0.02 UrbanYes + 1.20 USYes"
   ]
  },
  {
   "cell_type": "markdown",
   "metadata": {},
   "source": [
    "### d"
   ]
  },
  {
   "cell_type": "markdown",
   "metadata": {},
   "source": [
    "Price and USYes, based on the p-values, F-statistic, and p-value of the F-statistic."
   ]
  },
  {
   "cell_type": "markdown",
   "metadata": {},
   "source": [
    "### e"
   ]
  },
  {
   "cell_type": "code",
   "execution_count": 53,
   "metadata": {},
   "outputs": [],
   "source": [
    "lm.fit2 = lm(Sales ~ Price + US)"
   ]
  },
  {
   "cell_type": "code",
   "execution_count": 54,
   "metadata": {},
   "outputs": [
    {
     "data": {
      "text/plain": [
       "\n",
       "Call:\n",
       "lm(formula = Sales ~ Price + US)\n",
       "\n",
       "Residuals:\n",
       "    Min      1Q  Median      3Q     Max \n",
       "-6.9269 -1.6286 -0.0574  1.5766  7.0515 \n",
       "\n",
       "Coefficients:\n",
       "            Estimate Std. Error t value Pr(>|t|)    \n",
       "(Intercept) 13.03079    0.63098  20.652  < 2e-16 ***\n",
       "Price       -0.05448    0.00523 -10.416  < 2e-16 ***\n",
       "USYes        1.19964    0.25846   4.641 4.71e-06 ***\n",
       "---\n",
       "Signif. codes:  0 '***' 0.001 '**' 0.01 '*' 0.05 '.' 0.1 ' ' 1\n",
       "\n",
       "Residual standard error: 2.469 on 397 degrees of freedom\n",
       "Multiple R-squared:  0.2393,\tAdjusted R-squared:  0.2354 \n",
       "F-statistic: 62.43 on 2 and 397 DF,  p-value: < 2.2e-16\n"
      ]
     },
     "metadata": {},
     "output_type": "display_data"
    }
   ],
   "source": [
    "summary(lm.fit2)"
   ]
  },
  {
   "cell_type": "markdown",
   "metadata": {},
   "source": [
    "### f"
   ]
  },
  {
   "cell_type": "markdown",
   "metadata": {},
   "source": [
    "Based on the RSE and R^2 of the linear regressions, they both fit the data similarly, with linear regression from (e) fitting the data slightly better."
   ]
  },
  {
   "cell_type": "markdown",
   "metadata": {},
   "source": [
    "### g"
   ]
  },
  {
   "cell_type": "code",
   "execution_count": 55,
   "metadata": {},
   "outputs": [
    {
     "data": {
      "text/html": [
       "<table>\n",
       "<thead><tr><th></th><th scope=col>2.5 %</th><th scope=col>97.5 %</th></tr></thead>\n",
       "<tbody>\n",
       "\t<tr><th scope=row>(Intercept)</th><td>11.79032020</td><td>14.27126531</td></tr>\n",
       "\t<tr><th scope=row>Price</th><td>-0.06475984</td><td>-0.04419543</td></tr>\n",
       "\t<tr><th scope=row>USYes</th><td> 0.69151957</td><td> 1.70776632</td></tr>\n",
       "</tbody>\n",
       "</table>\n"
      ],
      "text/latex": [
       "\\begin{tabular}{r|ll}\n",
       "  & 2.5 \\% & 97.5 \\%\\\\\n",
       "\\hline\n",
       "\t(Intercept) & 11.79032020 & 14.27126531\\\\\n",
       "\tPrice & -0.06475984 & -0.04419543\\\\\n",
       "\tUSYes &  0.69151957 &  1.70776632\\\\\n",
       "\\end{tabular}\n"
      ],
      "text/markdown": [
       "\n",
       "| <!--/--> | 2.5 % | 97.5 % |\n",
       "|---|---|---|\n",
       "| (Intercept) | 11.79032020 | 14.27126531 |\n",
       "| Price | -0.06475984 | -0.04419543 |\n",
       "| USYes |  0.69151957 |  1.70776632 |\n",
       "\n"
      ],
      "text/plain": [
       "            2.5 %       97.5 %     \n",
       "(Intercept) 11.79032020 14.27126531\n",
       "Price       -0.06475984 -0.04419543\n",
       "USYes        0.69151957  1.70776632"
      ]
     },
     "metadata": {},
     "output_type": "display_data"
    }
   ],
   "source": [
    "confint(lm.fit2)"
   ]
  },
  {
   "cell_type": "markdown",
   "metadata": {},
   "source": [
    "### h"
   ]
  },
  {
   "cell_type": "code",
   "execution_count": 56,
   "metadata": {},
   "outputs": [
    {
     "data": {
      "image/png": "[encoded data removed]",
      "text/plain": [
       "plot without title"
      ]
     },
     "metadata": {},
     "output_type": "display_data"
    }
   ],
   "source": [
    "plot(predict(lm.fit2), rstudent(lm.fit2))"
   ]
  },
  {
   "cell_type": "markdown",
   "metadata": {},
   "source": [
    "bounded by -3 to 3, so not potential outliers are suggested from the linear regression."
   ]
  },
  {
   "cell_type": "code",
   "execution_count": 57,
   "metadata": {},
   "outputs": [
    {
     "data": {
      "image/png": "[encoded data removed]",
      "text/plain": [
       "Plot with title \"\""
      ]
     },
     "metadata": {},
     "output_type": "display_data"
    },
    {
     "data": {
      "image/png": "[encoded data removed]",
      "text/plain": [
       "Plot with title \"\""
      ]
     },
     "metadata": {},
     "output_type": "display_data"
    },
    {
     "data": {
      "image/png": "[encoded data removed]",
      "text/plain": [
       "Plot with title \"\""
      ]
     },
     "metadata": {},
     "output_type": "display_data"
    },
    {
     "data": {
      "image/png": "[encoded data removed]",
      "text/plain": [
       "Plot with title \"\""
      ]
     },
     "metadata": {},
     "output_type": "display_data"
    }
   ],
   "source": [
    "plot(lm.fit2)"
   ]
  },
  {
   "cell_type": "markdown",
   "metadata": {},
   "source": [
    "exceed (p+1)/n (0.0076) on the leverage-statistic plot that suggest that the corresponding points have high leverage."
   ]
  },
  {
   "cell_type": "markdown",
   "metadata": {},
   "source": [
    "## Exercise 15 p.126"
   ]
  },
  {
   "cell_type": "markdown",
   "metadata": {},
   "source": [
    "### a"
   ]
  },
  {
   "cell_type": "code",
   "execution_count": 58,
   "metadata": {},
   "outputs": [
    {
     "data": {
      "text/html": [
       "<table>\n",
       "<thead><tr><th scope=col>crim</th><th scope=col>zn</th><th scope=col>indus</th><th scope=col>chas</th><th scope=col>nox</th><th scope=col>rm</th><th scope=col>age</th><th scope=col>dis</th><th scope=col>rad</th><th scope=col>tax</th><th scope=col>ptratio</th><th scope=col>black</th><th scope=col>lstat</th><th scope=col>medv</th></tr></thead>\n",
       "<tbody>\n",
       "\t<tr><td>0.00632</td><td>18     </td><td>2.31   </td><td>0      </td><td>0.538  </td><td>6.575  </td><td>65.2   </td><td>4.0900 </td><td>1      </td><td>296    </td><td>15.3   </td><td>396.9  </td><td>4.98   </td><td>24.0   </td></tr>\n",
       "\t<tr><td>0.02731</td><td> 0     </td><td>7.07   </td><td>0      </td><td>0.469  </td><td>6.421  </td><td>78.9   </td><td>4.9671 </td><td>2      </td><td>242    </td><td>17.8   </td><td>396.9  </td><td>9.14   </td><td>21.6   </td></tr>\n",
       "</tbody>\n",
       "</table>\n"
      ],
      "text/latex": [
       "\\begin{tabular}{r|llllllllllllll}\n",
       " crim & zn & indus & chas & nox & rm & age & dis & rad & tax & ptratio & black & lstat & medv\\\\\n",
       "\\hline\n",
       "\t 0.00632 & 18      & 2.31    & 0       & 0.538   & 6.575   & 65.2    & 4.0900  & 1       & 296     & 15.3    & 396.9   & 4.98    & 24.0   \\\\\n",
       "\t 0.02731 &  0      & 7.07    & 0       & 0.469   & 6.421   & 78.9    & 4.9671  & 2       & 242     & 17.8    & 396.9   & 9.14    & 21.6   \\\\\n",
       "\\end{tabular}\n"
      ],
      "text/markdown": [
       "\n",
       "| crim | zn | indus | chas | nox | rm | age | dis | rad | tax | ptratio | black | lstat | medv |\n",
       "|---|---|---|---|---|---|---|---|---|---|---|---|---|---|\n",
       "| 0.00632 | 18      | 2.31    | 0       | 0.538   | 6.575   | 65.2    | 4.0900  | 1       | 296     | 15.3    | 396.9   | 4.98    | 24.0    |\n",
       "| 0.02731 |  0      | 7.07    | 0       | 0.469   | 6.421   | 78.9    | 4.9671  | 2       | 242     | 17.8    | 396.9   | 9.14    | 21.6    |\n",
       "\n"
      ],
      "text/plain": [
       "  crim    zn indus chas nox   rm    age  dis    rad tax ptratio black lstat\n",
       "1 0.00632 18 2.31  0    0.538 6.575 65.2 4.0900 1   296 15.3    396.9 4.98 \n",
       "2 0.02731  0 7.07  0    0.469 6.421 78.9 4.9671 2   242 17.8    396.9 9.14 \n",
       "  medv\n",
       "1 24.0\n",
       "2 21.6"
      ]
     },
     "metadata": {},
     "output_type": "display_data"
    }
   ],
   "source": [
    "head(Boston,2)"
   ]
  },
  {
   "cell_type": "code",
   "execution_count": 59,
   "metadata": {},
   "outputs": [
    {
     "data": {
      "text/plain": [
       "      crim                zn             indus            chas        \n",
       " Min.   : 0.00632   Min.   :  0.00   Min.   : 0.46   Min.   :0.00000  \n",
       " 1st Qu.: 0.08204   1st Qu.:  0.00   1st Qu.: 5.19   1st Qu.:0.00000  \n",
       " Median : 0.25651   Median :  0.00   Median : 9.69   Median :0.00000  \n",
       " Mean   : 3.61352   Mean   : 11.36   Mean   :11.14   Mean   :0.06917  \n",
       " 3rd Qu.: 3.67708   3rd Qu.: 12.50   3rd Qu.:18.10   3rd Qu.:0.00000  \n",
       " Max.   :88.97620   Max.   :100.00   Max.   :27.74   Max.   :1.00000  \n",
       "      nox               rm             age              dis        \n",
       " Min.   :0.3850   Min.   :3.561   Min.   :  2.90   Min.   : 1.130  \n",
       " 1st Qu.:0.4490   1st Qu.:5.886   1st Qu.: 45.02   1st Qu.: 2.100  \n",
       " Median :0.5380   Median :6.208   Median : 77.50   Median : 3.207  \n",
       " Mean   :0.5547   Mean   :6.285   Mean   : 68.57   Mean   : 3.795  \n",
       " 3rd Qu.:0.6240   3rd Qu.:6.623   3rd Qu.: 94.08   3rd Qu.: 5.188  \n",
       " Max.   :0.8710   Max.   :8.780   Max.   :100.00   Max.   :12.127  \n",
       "      rad              tax           ptratio          black       \n",
       " Min.   : 1.000   Min.   :187.0   Min.   :12.60   Min.   :  0.32  \n",
       " 1st Qu.: 4.000   1st Qu.:279.0   1st Qu.:17.40   1st Qu.:375.38  \n",
       " Median : 5.000   Median :330.0   Median :19.05   Median :391.44  \n",
       " Mean   : 9.549   Mean   :408.2   Mean   :18.46   Mean   :356.67  \n",
       " 3rd Qu.:24.000   3rd Qu.:666.0   3rd Qu.:20.20   3rd Qu.:396.23  \n",
       " Max.   :24.000   Max.   :711.0   Max.   :22.00   Max.   :396.90  \n",
       "     lstat            medv      \n",
       " Min.   : 1.73   Min.   : 5.00  \n",
       " 1st Qu.: 6.95   1st Qu.:17.02  \n",
       " Median :11.36   Median :21.20  \n",
       " Mean   :12.65   Mean   :22.53  \n",
       " 3rd Qu.:16.95   3rd Qu.:25.00  \n",
       " Max.   :37.97   Max.   :50.00  "
      ]
     },
     "metadata": {},
     "output_type": "display_data"
    }
   ],
   "source": [
    "summary(Boston)"
   ]
  },
  {
   "cell_type": "code",
   "execution_count": 60,
   "metadata": {},
   "outputs": [],
   "source": [
    "Boston$chas <- factor(Boston$chas, labels = c(\"N\",\"Y\"))"
   ]
  },
  {
   "cell_type": "code",
   "execution_count": 61,
   "metadata": {},
   "outputs": [
    {
     "data": {
      "text/plain": [
       "      crim                zn             indus       chas         nox        \n",
       " Min.   : 0.00632   Min.   :  0.00   Min.   : 0.46   N:471   Min.   :0.3850  \n",
       " 1st Qu.: 0.08204   1st Qu.:  0.00   1st Qu.: 5.19   Y: 35   1st Qu.:0.4490  \n",
       " Median : 0.25651   Median :  0.00   Median : 9.69           Median :0.5380  \n",
       " Mean   : 3.61352   Mean   : 11.36   Mean   :11.14           Mean   :0.5547  \n",
       " 3rd Qu.: 3.67708   3rd Qu.: 12.50   3rd Qu.:18.10           3rd Qu.:0.6240  \n",
       " Max.   :88.97620   Max.   :100.00   Max.   :27.74           Max.   :0.8710  \n",
       "       rm             age              dis              rad        \n",
       " Min.   :3.561   Min.   :  2.90   Min.   : 1.130   Min.   : 1.000  \n",
       " 1st Qu.:5.886   1st Qu.: 45.02   1st Qu.: 2.100   1st Qu.: 4.000  \n",
       " Median :6.208   Median : 77.50   Median : 3.207   Median : 5.000  \n",
       " Mean   :6.285   Mean   : 68.57   Mean   : 3.795   Mean   : 9.549  \n",
       " 3rd Qu.:6.623   3rd Qu.: 94.08   3rd Qu.: 5.188   3rd Qu.:24.000  \n",
       " Max.   :8.780   Max.   :100.00   Max.   :12.127   Max.   :24.000  \n",
       "      tax           ptratio          black            lstat      \n",
       " Min.   :187.0   Min.   :12.60   Min.   :  0.32   Min.   : 1.73  \n",
       " 1st Qu.:279.0   1st Qu.:17.40   1st Qu.:375.38   1st Qu.: 6.95  \n",
       " Median :330.0   Median :19.05   Median :391.44   Median :11.36  \n",
       " Mean   :408.2   Mean   :18.46   Mean   :356.67   Mean   :12.65  \n",
       " 3rd Qu.:666.0   3rd Qu.:20.20   3rd Qu.:396.23   3rd Qu.:16.95  \n",
       " Max.   :711.0   Max.   :22.00   Max.   :396.90   Max.   :37.97  \n",
       "      medv      \n",
       " Min.   : 5.00  \n",
       " 1st Qu.:17.02  \n",
       " Median :21.20  \n",
       " Mean   :22.53  \n",
       " 3rd Qu.:25.00  \n",
       " Max.   :50.00  "
      ]
     },
     "metadata": {},
     "output_type": "display_data"
    }
   ],
   "source": [
    "summary(Boston)"
   ]
  },
  {
   "cell_type": "code",
   "execution_count": 62,
   "metadata": {},
   "outputs": [],
   "source": [
    "attach(Boston)"
   ]
  },
  {
   "cell_type": "code",
   "execution_count": 64,
   "metadata": {},
   "outputs": [],
   "source": [
    "lm.zn = lm(crim~zn)"
   ]
  },
  {
   "cell_type": "code",
   "execution_count": 65,
   "metadata": {},
   "outputs": [
    {
     "data": {
      "text/plain": [
       "\n",
       "Call:\n",
       "lm(formula = crim ~ zn)\n",
       "\n",
       "Residuals:\n",
       "   Min     1Q Median     3Q    Max \n",
       "-4.429 -4.222 -2.620  1.250 84.523 \n",
       "\n",
       "Coefficients:\n",
       "            Estimate Std. Error t value Pr(>|t|)    \n",
       "(Intercept)  4.45369    0.41722  10.675  < 2e-16 ***\n",
       "zn          -0.07393    0.01609  -4.594 5.51e-06 ***\n",
       "---\n",
       "Signif. codes:  0 '***' 0.001 '**' 0.01 '*' 0.05 '.' 0.1 ' ' 1\n",
       "\n",
       "Residual standard error: 8.435 on 504 degrees of freedom\n",
       "Multiple R-squared:  0.04019,\tAdjusted R-squared:  0.03828 \n",
       "F-statistic:  21.1 on 1 and 504 DF,  p-value: 5.506e-06\n"
      ]
     },
     "metadata": {},
     "output_type": "display_data"
    }
   ],
   "source": [
    "summary(lm.zn)"
   ]
  },
  {
   "cell_type": "code",
   "execution_count": 66,
   "metadata": {},
   "outputs": [],
   "source": [
    "lm.indus = lm(crim~indus)"
   ]
  },
  {
   "cell_type": "code",
   "execution_count": 67,
   "metadata": {},
   "outputs": [
    {
     "data": {
      "text/plain": [
       "\n",
       "Call:\n",
       "lm(formula = crim ~ indus)\n",
       "\n",
       "Residuals:\n",
       "    Min      1Q  Median      3Q     Max \n",
       "-11.972  -2.698  -0.736   0.712  81.813 \n",
       "\n",
       "Coefficients:\n",
       "            Estimate Std. Error t value Pr(>|t|)    \n",
       "(Intercept) -2.06374    0.66723  -3.093  0.00209 ** \n",
       "indus        0.50978    0.05102   9.991  < 2e-16 ***\n",
       "---\n",
       "Signif. codes:  0 '***' 0.001 '**' 0.01 '*' 0.05 '.' 0.1 ' ' 1\n",
       "\n",
       "Residual standard error: 7.866 on 504 degrees of freedom\n",
       "Multiple R-squared:  0.1653,\tAdjusted R-squared:  0.1637 \n",
       "F-statistic: 99.82 on 1 and 504 DF,  p-value: < 2.2e-16\n"
      ]
     },
     "metadata": {},
     "output_type": "display_data"
    }
   ],
   "source": [
    "summary(lm.indus)"
   ]
  },
  {
   "cell_type": "code",
   "execution_count": 68,
   "metadata": {},
   "outputs": [
    {
     "data": {
      "text/plain": [
       "\n",
       "Call:\n",
       "lm(formula = crim ~ chas)\n",
       "\n",
       "Residuals:\n",
       "   Min     1Q Median     3Q    Max \n",
       "-3.738 -3.661 -3.435  0.018 85.232 \n",
       "\n",
       "Coefficients:\n",
       "            Estimate Std. Error t value Pr(>|t|)    \n",
       "(Intercept)   3.7444     0.3961   9.453   <2e-16 ***\n",
       "chasY        -1.8928     1.5061  -1.257    0.209    \n",
       "---\n",
       "Signif. codes:  0 '***' 0.001 '**' 0.01 '*' 0.05 '.' 0.1 ' ' 1\n",
       "\n",
       "Residual standard error: 8.597 on 504 degrees of freedom\n",
       "Multiple R-squared:  0.003124,\tAdjusted R-squared:  0.001146 \n",
       "F-statistic: 1.579 on 1 and 504 DF,  p-value: 0.2094\n"
      ]
     },
     "metadata": {},
     "output_type": "display_data"
    }
   ],
   "source": [
    "lm.chas = lm(crim~chas) \n",
    "summary(lm.chas)"
   ]
  },
  {
   "cell_type": "code",
   "execution_count": 69,
   "metadata": {},
   "outputs": [
    {
     "data": {
      "text/plain": [
       "\n",
       "Call:\n",
       "lm(formula = crim ~ nox)\n",
       "\n",
       "Residuals:\n",
       "    Min      1Q  Median      3Q     Max \n",
       "-12.371  -2.738  -0.974   0.559  81.728 \n",
       "\n",
       "Coefficients:\n",
       "            Estimate Std. Error t value Pr(>|t|)    \n",
       "(Intercept)  -13.720      1.699  -8.073 5.08e-15 ***\n",
       "nox           31.249      2.999  10.419  < 2e-16 ***\n",
       "---\n",
       "Signif. codes:  0 '***' 0.001 '**' 0.01 '*' 0.05 '.' 0.1 ' ' 1\n",
       "\n",
       "Residual standard error: 7.81 on 504 degrees of freedom\n",
       "Multiple R-squared:  0.1772,\tAdjusted R-squared:  0.1756 \n",
       "F-statistic: 108.6 on 1 and 504 DF,  p-value: < 2.2e-16\n"
      ]
     },
     "metadata": {},
     "output_type": "display_data"
    }
   ],
   "source": [
    "lm.nox = lm(crim~nox)\n",
    "summary(lm.nox)"
   ]
  },
  {
   "cell_type": "code",
   "execution_count": 70,
   "metadata": {},
   "outputs": [
    {
     "data": {
      "text/plain": [
       "\n",
       "Call:\n",
       "lm(formula = crim ~ rm)\n",
       "\n",
       "Residuals:\n",
       "   Min     1Q Median     3Q    Max \n",
       "-6.604 -3.952 -2.654  0.989 87.197 \n",
       "\n",
       "Coefficients:\n",
       "            Estimate Std. Error t value Pr(>|t|)    \n",
       "(Intercept)   20.482      3.365   6.088 2.27e-09 ***\n",
       "rm            -2.684      0.532  -5.045 6.35e-07 ***\n",
       "---\n",
       "Signif. codes:  0 '***' 0.001 '**' 0.01 '*' 0.05 '.' 0.1 ' ' 1\n",
       "\n",
       "Residual standard error: 8.401 on 504 degrees of freedom\n",
       "Multiple R-squared:  0.04807,\tAdjusted R-squared:  0.04618 \n",
       "F-statistic: 25.45 on 1 and 504 DF,  p-value: 6.347e-07\n"
      ]
     },
     "metadata": {},
     "output_type": "display_data"
    }
   ],
   "source": [
    "lm.rm = lm(crim~rm)\n",
    "summary(lm.rm)"
   ]
  },
  {
   "cell_type": "code",
   "execution_count": 71,
   "metadata": {},
   "outputs": [
    {
     "data": {
      "text/plain": [
       "\n",
       "Call:\n",
       "lm(formula = crim ~ age)\n",
       "\n",
       "Residuals:\n",
       "   Min     1Q Median     3Q    Max \n",
       "-6.789 -4.257 -1.230  1.527 82.849 \n",
       "\n",
       "Coefficients:\n",
       "            Estimate Std. Error t value Pr(>|t|)    \n",
       "(Intercept) -3.77791    0.94398  -4.002 7.22e-05 ***\n",
       "age          0.10779    0.01274   8.463 2.85e-16 ***\n",
       "---\n",
       "Signif. codes:  0 '***' 0.001 '**' 0.01 '*' 0.05 '.' 0.1 ' ' 1\n",
       "\n",
       "Residual standard error: 8.057 on 504 degrees of freedom\n",
       "Multiple R-squared:  0.1244,\tAdjusted R-squared:  0.1227 \n",
       "F-statistic: 71.62 on 1 and 504 DF,  p-value: 2.855e-16\n"
      ]
     },
     "metadata": {},
     "output_type": "display_data"
    }
   ],
   "source": [
    "lm.age = lm(crim~age)\n",
    "summary(lm.age)"
   ]
  },
  {
   "cell_type": "code",
   "execution_count": 72,
   "metadata": {},
   "outputs": [
    {
     "data": {
      "text/plain": [
       "\n",
       "Call:\n",
       "lm(formula = crim ~ dis)\n",
       "\n",
       "Residuals:\n",
       "   Min     1Q Median     3Q    Max \n",
       "-6.708 -4.134 -1.527  1.516 81.674 \n",
       "\n",
       "Coefficients:\n",
       "            Estimate Std. Error t value Pr(>|t|)    \n",
       "(Intercept)   9.4993     0.7304  13.006   <2e-16 ***\n",
       "dis          -1.5509     0.1683  -9.213   <2e-16 ***\n",
       "---\n",
       "Signif. codes:  0 '***' 0.001 '**' 0.01 '*' 0.05 '.' 0.1 ' ' 1\n",
       "\n",
       "Residual standard error: 7.965 on 504 degrees of freedom\n",
       "Multiple R-squared:  0.1441,\tAdjusted R-squared:  0.1425 \n",
       "F-statistic: 84.89 on 1 and 504 DF,  p-value: < 2.2e-16\n"
      ]
     },
     "metadata": {},
     "output_type": "display_data"
    }
   ],
   "source": [
    "lm.dis = lm(crim~dis)\n",
    "summary(lm.dis)"
   ]
  },
  {
   "cell_type": "code",
   "execution_count": 73,
   "metadata": {},
   "outputs": [
    {
     "data": {
      "text/plain": [
       "\n",
       "Call:\n",
       "lm(formula = crim ~ rad)\n",
       "\n",
       "Residuals:\n",
       "    Min      1Q  Median      3Q     Max \n",
       "-10.164  -1.381  -0.141   0.660  76.433 \n",
       "\n",
       "Coefficients:\n",
       "            Estimate Std. Error t value Pr(>|t|)    \n",
       "(Intercept) -2.28716    0.44348  -5.157 3.61e-07 ***\n",
       "rad          0.61791    0.03433  17.998  < 2e-16 ***\n",
       "---\n",
       "Signif. codes:  0 '***' 0.001 '**' 0.01 '*' 0.05 '.' 0.1 ' ' 1\n",
       "\n",
       "Residual standard error: 6.718 on 504 degrees of freedom\n",
       "Multiple R-squared:  0.3913,\tAdjusted R-squared:   0.39 \n",
       "F-statistic: 323.9 on 1 and 504 DF,  p-value: < 2.2e-16\n"
      ]
     },
     "metadata": {},
     "output_type": "display_data"
    }
   ],
   "source": [
    "lm.rad = lm(crim~rad)\n",
    "summary(lm.rad)"
   ]
  },
  {
   "cell_type": "code",
   "execution_count": 74,
   "metadata": {},
   "outputs": [
    {
     "data": {
      "text/plain": [
       "\n",
       "Call:\n",
       "lm(formula = crim ~ tax)\n",
       "\n",
       "Residuals:\n",
       "    Min      1Q  Median      3Q     Max \n",
       "-12.513  -2.738  -0.194   1.065  77.696 \n",
       "\n",
       "Coefficients:\n",
       "             Estimate Std. Error t value Pr(>|t|)    \n",
       "(Intercept) -8.528369   0.815809  -10.45   <2e-16 ***\n",
       "tax          0.029742   0.001847   16.10   <2e-16 ***\n",
       "---\n",
       "Signif. codes:  0 '***' 0.001 '**' 0.01 '*' 0.05 '.' 0.1 ' ' 1\n",
       "\n",
       "Residual standard error: 6.997 on 504 degrees of freedom\n",
       "Multiple R-squared:  0.3396,\tAdjusted R-squared:  0.3383 \n",
       "F-statistic: 259.2 on 1 and 504 DF,  p-value: < 2.2e-16\n"
      ]
     },
     "metadata": {},
     "output_type": "display_data"
    }
   ],
   "source": [
    "lm.tax = lm(crim~tax)\n",
    "summary(lm.tax)"
   ]
  },
  {
   "cell_type": "code",
   "execution_count": 75,
   "metadata": {},
   "outputs": [
    {
     "data": {
      "text/plain": [
       "\n",
       "Call:\n",
       "lm(formula = crim ~ ptratio)\n",
       "\n",
       "Residuals:\n",
       "   Min     1Q Median     3Q    Max \n",
       "-7.654 -3.985 -1.912  1.825 83.353 \n",
       "\n",
       "Coefficients:\n",
       "            Estimate Std. Error t value Pr(>|t|)    \n",
       "(Intercept) -17.6469     3.1473  -5.607 3.40e-08 ***\n",
       "ptratio       1.1520     0.1694   6.801 2.94e-11 ***\n",
       "---\n",
       "Signif. codes:  0 '***' 0.001 '**' 0.01 '*' 0.05 '.' 0.1 ' ' 1\n",
       "\n",
       "Residual standard error: 8.24 on 504 degrees of freedom\n",
       "Multiple R-squared:  0.08407,\tAdjusted R-squared:  0.08225 \n",
       "F-statistic: 46.26 on 1 and 504 DF,  p-value: 2.943e-11\n"
      ]
     },
     "metadata": {},
     "output_type": "display_data"
    }
   ],
   "source": [
    "lm.ptratio = lm(crim~ptratio)\n",
    "summary(lm.ptratio)"
   ]
  },
  {
   "cell_type": "code",
   "execution_count": 76,
   "metadata": {},
   "outputs": [
    {
     "data": {
      "text/plain": [
       "\n",
       "Call:\n",
       "lm(formula = crim ~ black)\n",
       "\n",
       "Residuals:\n",
       "    Min      1Q  Median      3Q     Max \n",
       "-13.756  -2.299  -2.095  -1.296  86.822 \n",
       "\n",
       "Coefficients:\n",
       "             Estimate Std. Error t value Pr(>|t|)    \n",
       "(Intercept) 16.553529   1.425903  11.609   <2e-16 ***\n",
       "black       -0.036280   0.003873  -9.367   <2e-16 ***\n",
       "---\n",
       "Signif. codes:  0 '***' 0.001 '**' 0.01 '*' 0.05 '.' 0.1 ' ' 1\n",
       "\n",
       "Residual standard error: 7.946 on 504 degrees of freedom\n",
       "Multiple R-squared:  0.1483,\tAdjusted R-squared:  0.1466 \n",
       "F-statistic: 87.74 on 1 and 504 DF,  p-value: < 2.2e-16\n"
      ]
     },
     "metadata": {},
     "output_type": "display_data"
    }
   ],
   "source": [
    "lm.black = lm(crim~black)\n",
    "summary(lm.black)"
   ]
  },
  {
   "cell_type": "code",
   "execution_count": 77,
   "metadata": {},
   "outputs": [
    {
     "data": {
      "text/plain": [
       "\n",
       "Call:\n",
       "lm(formula = crim ~ lstat)\n",
       "\n",
       "Residuals:\n",
       "    Min      1Q  Median      3Q     Max \n",
       "-13.925  -2.822  -0.664   1.079  82.862 \n",
       "\n",
       "Coefficients:\n",
       "            Estimate Std. Error t value Pr(>|t|)    \n",
       "(Intercept) -3.33054    0.69376  -4.801 2.09e-06 ***\n",
       "lstat        0.54880    0.04776  11.491  < 2e-16 ***\n",
       "---\n",
       "Signif. codes:  0 '***' 0.001 '**' 0.01 '*' 0.05 '.' 0.1 ' ' 1\n",
       "\n",
       "Residual standard error: 7.664 on 504 degrees of freedom\n",
       "Multiple R-squared:  0.2076,\tAdjusted R-squared:  0.206 \n",
       "F-statistic:   132 on 1 and 504 DF,  p-value: < 2.2e-16\n"
      ]
     },
     "metadata": {},
     "output_type": "display_data"
    }
   ],
   "source": [
    "lm.lstat = lm(crim~lstat)\n",
    "summary(lm.lstat)"
   ]
  },
  {
   "cell_type": "code",
   "execution_count": 78,
   "metadata": {},
   "outputs": [
    {
     "data": {
      "text/plain": [
       "\n",
       "Call:\n",
       "lm(formula = crim ~ medv)\n",
       "\n",
       "Residuals:\n",
       "   Min     1Q Median     3Q    Max \n",
       "-9.071 -4.022 -2.343  1.298 80.957 \n",
       "\n",
       "Coefficients:\n",
       "            Estimate Std. Error t value Pr(>|t|)    \n",
       "(Intercept) 11.79654    0.93419   12.63   <2e-16 ***\n",
       "medv        -0.36316    0.03839   -9.46   <2e-16 ***\n",
       "---\n",
       "Signif. codes:  0 '***' 0.001 '**' 0.01 '*' 0.05 '.' 0.1 ' ' 1\n",
       "\n",
       "Residual standard error: 7.934 on 504 degrees of freedom\n",
       "Multiple R-squared:  0.1508,\tAdjusted R-squared:  0.1491 \n",
       "F-statistic: 89.49 on 1 and 504 DF,  p-value: < 2.2e-16\n"
      ]
     },
     "metadata": {},
     "output_type": "display_data"
    }
   ],
   "source": [
    "lm.medv = lm(crim~medv)\n",
    "summary(lm.medv)"
   ]
  },
  {
   "cell_type": "markdown",
   "metadata": {},
   "source": [
    "All, except chas"
   ]
  },
  {
   "cell_type": "markdown",
   "metadata": {},
   "source": [
    "### b"
   ]
  },
  {
   "cell_type": "code",
   "execution_count": 79,
   "metadata": {},
   "outputs": [
    {
     "data": {
      "text/plain": [
       "\n",
       "Call:\n",
       "lm(formula = crim ~ ., data = Boston)\n",
       "\n",
       "Residuals:\n",
       "   Min     1Q Median     3Q    Max \n",
       "-9.924 -2.120 -0.353  1.019 75.051 \n",
       "\n",
       "Coefficients:\n",
       "              Estimate Std. Error t value Pr(>|t|)    \n",
       "(Intercept)  17.033228   7.234903   2.354 0.018949 *  \n",
       "zn            0.044855   0.018734   2.394 0.017025 *  \n",
       "indus        -0.063855   0.083407  -0.766 0.444294    \n",
       "chasY        -0.749134   1.180147  -0.635 0.525867    \n",
       "nox         -10.313535   5.275536  -1.955 0.051152 .  \n",
       "rm            0.430131   0.612830   0.702 0.483089    \n",
       "age           0.001452   0.017925   0.081 0.935488    \n",
       "dis          -0.987176   0.281817  -3.503 0.000502 ***\n",
       "rad           0.588209   0.088049   6.680 6.46e-11 ***\n",
       "tax          -0.003780   0.005156  -0.733 0.463793    \n",
       "ptratio      -0.271081   0.186450  -1.454 0.146611    \n",
       "black        -0.007538   0.003673  -2.052 0.040702 *  \n",
       "lstat         0.126211   0.075725   1.667 0.096208 .  \n",
       "medv         -0.198887   0.060516  -3.287 0.001087 ** \n",
       "---\n",
       "Signif. codes:  0 '***' 0.001 '**' 0.01 '*' 0.05 '.' 0.1 ' ' 1\n",
       "\n",
       "Residual standard error: 6.439 on 492 degrees of freedom\n",
       "Multiple R-squared:  0.454,\tAdjusted R-squared:  0.4396 \n",
       "F-statistic: 31.47 on 13 and 492 DF,  p-value: < 2.2e-16\n"
      ]
     },
     "metadata": {},
     "output_type": "display_data"
    }
   ],
   "source": [
    "lm.all = lm(crim~., data=Boston)\n",
    "summary(lm.all)"
   ]
  },
  {
   "cell_type": "markdown",
   "metadata": {},
   "source": [
    "zn, dis, rad, black, medv"
   ]
  },
  {
   "cell_type": "markdown",
   "metadata": {},
   "source": [
    "### c"
   ]
  },
  {
   "cell_type": "code",
   "execution_count": 80,
   "metadata": {},
   "outputs": [
    {
     "data": {
      "image/png": "[encoded data removed]",
      "text/plain": [
       "plot without title"
      ]
     },
     "metadata": {},
     "output_type": "display_data"
    }
   ],
   "source": [
    "x = c(coefficients(lm.zn)[2],\n",
    "      coefficients(lm.indus)[2],\n",
    "      coefficients(lm.chas)[2],\n",
    "      coefficients(lm.nox)[2],\n",
    "      coefficients(lm.rm)[2],\n",
    "      coefficients(lm.age)[2],\n",
    "      coefficients(lm.dis)[2],\n",
    "      coefficients(lm.rad)[2],\n",
    "      coefficients(lm.tax)[2],\n",
    "      coefficients(lm.ptratio)[2],\n",
    "      coefficients(lm.black)[2],\n",
    "      coefficients(lm.lstat)[2],\n",
    "      coefficients(lm.medv)[2])\n",
    "y = coefficients(lm.all)[2:14]\n",
    "plot(x, y)"
   ]
  },
  {
   "cell_type": "markdown",
   "metadata": {},
   "source": [
    "univariate model and 31 in multiple regression model."
   ]
  },
  {
   "cell_type": "markdown",
   "metadata": {},
   "source": [
    "### d"
   ]
  },
  {
   "cell_type": "code",
   "execution_count": 81,
   "metadata": {},
   "outputs": [
    {
     "data": {
      "text/plain": [
       "\n",
       "Call:\n",
       "lm(formula = crim ~ poly(zn, 3))\n",
       "\n",
       "Residuals:\n",
       "   Min     1Q Median     3Q    Max \n",
       "-4.821 -4.614 -1.294  0.473 84.130 \n",
       "\n",
       "Coefficients:\n",
       "             Estimate Std. Error t value Pr(>|t|)    \n",
       "(Intercept)    3.6135     0.3722   9.709  < 2e-16 ***\n",
       "poly(zn, 3)1 -38.7498     8.3722  -4.628  4.7e-06 ***\n",
       "poly(zn, 3)2  23.9398     8.3722   2.859  0.00442 ** \n",
       "poly(zn, 3)3 -10.0719     8.3722  -1.203  0.22954    \n",
       "---\n",
       "Signif. codes:  0 '***' 0.001 '**' 0.01 '*' 0.05 '.' 0.1 ' ' 1\n",
       "\n",
       "Residual standard error: 8.372 on 502 degrees of freedom\n",
       "Multiple R-squared:  0.05824,\tAdjusted R-squared:  0.05261 \n",
       "F-statistic: 10.35 on 3 and 502 DF,  p-value: 1.281e-06\n"
      ]
     },
     "metadata": {},
     "output_type": "display_data"
    }
   ],
   "source": [
    "lm.zn = lm(crim~poly(zn,3))\n",
    "summary(lm.zn)"
   ]
  },
  {
   "cell_type": "code",
   "execution_count": 82,
   "metadata": {},
   "outputs": [
    {
     "data": {
      "text/plain": [
       "\n",
       "Call:\n",
       "lm(formula = crim ~ poly(indus, 3))\n",
       "\n",
       "Residuals:\n",
       "   Min     1Q Median     3Q    Max \n",
       "-8.278 -2.514  0.054  0.764 79.713 \n",
       "\n",
       "Coefficients:\n",
       "                Estimate Std. Error t value Pr(>|t|)    \n",
       "(Intercept)        3.614      0.330  10.950  < 2e-16 ***\n",
       "poly(indus, 3)1   78.591      7.423  10.587  < 2e-16 ***\n",
       "poly(indus, 3)2  -24.395      7.423  -3.286  0.00109 ** \n",
       "poly(indus, 3)3  -54.130      7.423  -7.292  1.2e-12 ***\n",
       "---\n",
       "Signif. codes:  0 '***' 0.001 '**' 0.01 '*' 0.05 '.' 0.1 ' ' 1\n",
       "\n",
       "Residual standard error: 7.423 on 502 degrees of freedom\n",
       "Multiple R-squared:  0.2597,\tAdjusted R-squared:  0.2552 \n",
       "F-statistic: 58.69 on 3 and 502 DF,  p-value: < 2.2e-16\n"
      ]
     },
     "metadata": {},
     "output_type": "display_data"
    }
   ],
   "source": [
    "lm.indus = lm(crim~poly(indus,3))\n",
    "summary(lm.indus)"
   ]
  },
  {
   "cell_type": "code",
   "execution_count": 83,
   "metadata": {},
   "outputs": [
    {
     "data": {
      "text/plain": [
       "\n",
       "Call:\n",
       "lm(formula = crim ~ poly(nox, 3))\n",
       "\n",
       "Residuals:\n",
       "   Min     1Q Median     3Q    Max \n",
       "-9.110 -2.068 -0.255  0.739 78.302 \n",
       "\n",
       "Coefficients:\n",
       "              Estimate Std. Error t value Pr(>|t|)    \n",
       "(Intercept)     3.6135     0.3216  11.237  < 2e-16 ***\n",
       "poly(nox, 3)1  81.3720     7.2336  11.249  < 2e-16 ***\n",
       "poly(nox, 3)2 -28.8286     7.2336  -3.985 7.74e-05 ***\n",
       "poly(nox, 3)3 -60.3619     7.2336  -8.345 6.96e-16 ***\n",
       "---\n",
       "Signif. codes:  0 '***' 0.001 '**' 0.01 '*' 0.05 '.' 0.1 ' ' 1\n",
       "\n",
       "Residual standard error: 7.234 on 502 degrees of freedom\n",
       "Multiple R-squared:  0.297,\tAdjusted R-squared:  0.2928 \n",
       "F-statistic: 70.69 on 3 and 502 DF,  p-value: < 2.2e-16\n"
      ]
     },
     "metadata": {},
     "output_type": "display_data"
    }
   ],
   "source": [
    "lm.nox = lm(crim~poly(nox,3))\n",
    "summary(lm.nox)"
   ]
  },
  {
   "cell_type": "code",
   "execution_count": 84,
   "metadata": {},
   "outputs": [
    {
     "data": {
      "text/plain": [
       "\n",
       "Call:\n",
       "lm(formula = crim ~ poly(rm, 3))\n",
       "\n",
       "Residuals:\n",
       "    Min      1Q  Median      3Q     Max \n",
       "-18.485  -3.468  -2.221  -0.015  87.219 \n",
       "\n",
       "Coefficients:\n",
       "             Estimate Std. Error t value Pr(>|t|)    \n",
       "(Intercept)    3.6135     0.3703   9.758  < 2e-16 ***\n",
       "poly(rm, 3)1 -42.3794     8.3297  -5.088 5.13e-07 ***\n",
       "poly(rm, 3)2  26.5768     8.3297   3.191  0.00151 ** \n",
       "poly(rm, 3)3  -5.5103     8.3297  -0.662  0.50858    \n",
       "---\n",
       "Signif. codes:  0 '***' 0.001 '**' 0.01 '*' 0.05 '.' 0.1 ' ' 1\n",
       "\n",
       "Residual standard error: 8.33 on 502 degrees of freedom\n",
       "Multiple R-squared:  0.06779,\tAdjusted R-squared:  0.06222 \n",
       "F-statistic: 12.17 on 3 and 502 DF,  p-value: 1.067e-07\n"
      ]
     },
     "metadata": {},
     "output_type": "display_data"
    }
   ],
   "source": [
    "lm.rm = lm(crim~poly(rm,3))\n",
    "summary(lm.rm)"
   ]
  },
  {
   "cell_type": "code",
   "execution_count": 85,
   "metadata": {},
   "outputs": [
    {
     "data": {
      "text/plain": [
       "\n",
       "Call:\n",
       "lm(formula = crim ~ poly(age, 3))\n",
       "\n",
       "Residuals:\n",
       "   Min     1Q Median     3Q    Max \n",
       "-9.762 -2.673 -0.516  0.019 82.842 \n",
       "\n",
       "Coefficients:\n",
       "              Estimate Std. Error t value Pr(>|t|)    \n",
       "(Intercept)     3.6135     0.3485  10.368  < 2e-16 ***\n",
       "poly(age, 3)1  68.1820     7.8397   8.697  < 2e-16 ***\n",
       "poly(age, 3)2  37.4845     7.8397   4.781 2.29e-06 ***\n",
       "poly(age, 3)3  21.3532     7.8397   2.724  0.00668 ** \n",
       "---\n",
       "Signif. codes:  0 '***' 0.001 '**' 0.01 '*' 0.05 '.' 0.1 ' ' 1\n",
       "\n",
       "Residual standard error: 7.84 on 502 degrees of freedom\n",
       "Multiple R-squared:  0.1742,\tAdjusted R-squared:  0.1693 \n",
       "F-statistic: 35.31 on 3 and 502 DF,  p-value: < 2.2e-16\n"
      ]
     },
     "metadata": {},
     "output_type": "display_data"
    }
   ],
   "source": [
    "lm.age = lm(crim~poly(age,3))\n",
    "summary(lm.age)"
   ]
  },
  {
   "cell_type": "code",
   "execution_count": 86,
   "metadata": {},
   "outputs": [
    {
     "data": {
      "text/plain": [
       "\n",
       "Call:\n",
       "lm(formula = crim ~ poly(dis, 3))\n",
       "\n",
       "Residuals:\n",
       "    Min      1Q  Median      3Q     Max \n",
       "-10.757  -2.588   0.031   1.267  76.378 \n",
       "\n",
       "Coefficients:\n",
       "              Estimate Std. Error t value Pr(>|t|)    \n",
       "(Intercept)     3.6135     0.3259  11.087  < 2e-16 ***\n",
       "poly(dis, 3)1 -73.3886     7.3315 -10.010  < 2e-16 ***\n",
       "poly(dis, 3)2  56.3730     7.3315   7.689 7.87e-14 ***\n",
       "poly(dis, 3)3 -42.6219     7.3315  -5.814 1.09e-08 ***\n",
       "---\n",
       "Signif. codes:  0 '***' 0.001 '**' 0.01 '*' 0.05 '.' 0.1 ' ' 1\n",
       "\n",
       "Residual standard error: 7.331 on 502 degrees of freedom\n",
       "Multiple R-squared:  0.2778,\tAdjusted R-squared:  0.2735 \n",
       "F-statistic: 64.37 on 3 and 502 DF,  p-value: < 2.2e-16\n"
      ]
     },
     "metadata": {},
     "output_type": "display_data"
    }
   ],
   "source": [
    "lm.dis = lm(crim~poly(dis,3))\n",
    "summary(lm.dis)"
   ]
  },
  {
   "cell_type": "code",
   "execution_count": 87,
   "metadata": {},
   "outputs": [
    {
     "data": {
      "text/plain": [
       "\n",
       "Call:\n",
       "lm(formula = crim ~ poly(rad, 3))\n",
       "\n",
       "Residuals:\n",
       "    Min      1Q  Median      3Q     Max \n",
       "-10.381  -0.412  -0.269   0.179  76.217 \n",
       "\n",
       "Coefficients:\n",
       "              Estimate Std. Error t value Pr(>|t|)    \n",
       "(Intercept)     3.6135     0.2971  12.164  < 2e-16 ***\n",
       "poly(rad, 3)1 120.9074     6.6824  18.093  < 2e-16 ***\n",
       "poly(rad, 3)2  17.4923     6.6824   2.618  0.00912 ** \n",
       "poly(rad, 3)3   4.6985     6.6824   0.703  0.48231    \n",
       "---\n",
       "Signif. codes:  0 '***' 0.001 '**' 0.01 '*' 0.05 '.' 0.1 ' ' 1\n",
       "\n",
       "Residual standard error: 6.682 on 502 degrees of freedom\n",
       "Multiple R-squared:    0.4,\tAdjusted R-squared:  0.3965 \n",
       "F-statistic: 111.6 on 3 and 502 DF,  p-value: < 2.2e-16\n"
      ]
     },
     "metadata": {},
     "output_type": "display_data"
    }
   ],
   "source": [
    "lm.rad = lm(crim~poly(rad,3))\n",
    "summary(lm.rad)"
   ]
  },
  {
   "cell_type": "code",
   "execution_count": 88,
   "metadata": {},
   "outputs": [
    {
     "data": {
      "text/plain": [
       "\n",
       "Call:\n",
       "lm(formula = crim ~ poly(tax, 3))\n",
       "\n",
       "Residuals:\n",
       "    Min      1Q  Median      3Q     Max \n",
       "-13.273  -1.389   0.046   0.536  76.950 \n",
       "\n",
       "Coefficients:\n",
       "              Estimate Std. Error t value Pr(>|t|)    \n",
       "(Intercept)     3.6135     0.3047  11.860  < 2e-16 ***\n",
       "poly(tax, 3)1 112.6458     6.8537  16.436  < 2e-16 ***\n",
       "poly(tax, 3)2  32.0873     6.8537   4.682 3.67e-06 ***\n",
       "poly(tax, 3)3  -7.9968     6.8537  -1.167    0.244    \n",
       "---\n",
       "Signif. codes:  0 '***' 0.001 '**' 0.01 '*' 0.05 '.' 0.1 ' ' 1\n",
       "\n",
       "Residual standard error: 6.854 on 502 degrees of freedom\n",
       "Multiple R-squared:  0.3689,\tAdjusted R-squared:  0.3651 \n",
       "F-statistic:  97.8 on 3 and 502 DF,  p-value: < 2.2e-16\n"
      ]
     },
     "metadata": {},
     "output_type": "display_data"
    }
   ],
   "source": [
    "lm.tax = lm(crim~poly(tax,3))\n",
    "summary(lm.tax)"
   ]
  },
  {
   "cell_type": "code",
   "execution_count": 89,
   "metadata": {},
   "outputs": [
    {
     "data": {
      "text/plain": [
       "\n",
       "Call:\n",
       "lm(formula = crim ~ poly(ptratio, 3))\n",
       "\n",
       "Residuals:\n",
       "   Min     1Q Median     3Q    Max \n",
       "-6.833 -4.146 -1.655  1.408 82.697 \n",
       "\n",
       "Coefficients:\n",
       "                  Estimate Std. Error t value Pr(>|t|)    \n",
       "(Intercept)          3.614      0.361  10.008  < 2e-16 ***\n",
       "poly(ptratio, 3)1   56.045      8.122   6.901 1.57e-11 ***\n",
       "poly(ptratio, 3)2   24.775      8.122   3.050  0.00241 ** \n",
       "poly(ptratio, 3)3  -22.280      8.122  -2.743  0.00630 ** \n",
       "---\n",
       "Signif. codes:  0 '***' 0.001 '**' 0.01 '*' 0.05 '.' 0.1 ' ' 1\n",
       "\n",
       "Residual standard error: 8.122 on 502 degrees of freedom\n",
       "Multiple R-squared:  0.1138,\tAdjusted R-squared:  0.1085 \n",
       "F-statistic: 21.48 on 3 and 502 DF,  p-value: 4.171e-13\n"
      ]
     },
     "metadata": {},
     "output_type": "display_data"
    }
   ],
   "source": [
    "lm.ptratio = lm(crim~poly(ptratio,3))\n",
    "summary(lm.ptratio)"
   ]
  },
  {
   "cell_type": "code",
   "execution_count": 90,
   "metadata": {},
   "outputs": [
    {
     "data": {
      "text/plain": [
       "\n",
       "Call:\n",
       "lm(formula = crim ~ poly(black, 3))\n",
       "\n",
       "Residuals:\n",
       "    Min      1Q  Median      3Q     Max \n",
       "-13.096  -2.343  -2.128  -1.439  86.790 \n",
       "\n",
       "Coefficients:\n",
       "                Estimate Std. Error t value Pr(>|t|)    \n",
       "(Intercept)       3.6135     0.3536  10.218   <2e-16 ***\n",
       "poly(black, 3)1 -74.4312     7.9546  -9.357   <2e-16 ***\n",
       "poly(black, 3)2   5.9264     7.9546   0.745    0.457    \n",
       "poly(black, 3)3  -4.8346     7.9546  -0.608    0.544    \n",
       "---\n",
       "Signif. codes:  0 '***' 0.001 '**' 0.01 '*' 0.05 '.' 0.1 ' ' 1\n",
       "\n",
       "Residual standard error: 7.955 on 502 degrees of freedom\n",
       "Multiple R-squared:  0.1498,\tAdjusted R-squared:  0.1448 \n",
       "F-statistic: 29.49 on 3 and 502 DF,  p-value: < 2.2e-16\n"
      ]
     },
     "metadata": {},
     "output_type": "display_data"
    }
   ],
   "source": [
    "lm.black = lm(crim~poly(black,3))\n",
    "summary(lm.black)"
   ]
  },
  {
   "cell_type": "code",
   "execution_count": 91,
   "metadata": {},
   "outputs": [
    {
     "data": {
      "text/plain": [
       "\n",
       "Call:\n",
       "lm(formula = crim ~ poly(lstat, 3))\n",
       "\n",
       "Residuals:\n",
       "    Min      1Q  Median      3Q     Max \n",
       "-15.234  -2.151  -0.486   0.066  83.353 \n",
       "\n",
       "Coefficients:\n",
       "                Estimate Std. Error t value Pr(>|t|)    \n",
       "(Intercept)       3.6135     0.3392  10.654   <2e-16 ***\n",
       "poly(lstat, 3)1  88.0697     7.6294  11.543   <2e-16 ***\n",
       "poly(lstat, 3)2  15.8882     7.6294   2.082   0.0378 *  \n",
       "poly(lstat, 3)3 -11.5740     7.6294  -1.517   0.1299    \n",
       "---\n",
       "Signif. codes:  0 '***' 0.001 '**' 0.01 '*' 0.05 '.' 0.1 ' ' 1\n",
       "\n",
       "Residual standard error: 7.629 on 502 degrees of freedom\n",
       "Multiple R-squared:  0.2179,\tAdjusted R-squared:  0.2133 \n",
       "F-statistic: 46.63 on 3 and 502 DF,  p-value: < 2.2e-16\n"
      ]
     },
     "metadata": {},
     "output_type": "display_data"
    }
   ],
   "source": [
    "lm.lstat = lm(crim~poly(lstat,3))\n",
    "summary(lm.lstat)"
   ]
  },
  {
   "cell_type": "code",
   "execution_count": 92,
   "metadata": {},
   "outputs": [
    {
     "data": {
      "text/plain": [
       "\n",
       "Call:\n",
       "lm(formula = crim ~ poly(medv, 3))\n",
       "\n",
       "Residuals:\n",
       "    Min      1Q  Median      3Q     Max \n",
       "-24.427  -1.976  -0.437   0.439  73.655 \n",
       "\n",
       "Coefficients:\n",
       "               Estimate Std. Error t value Pr(>|t|)    \n",
       "(Intercept)       3.614      0.292  12.374  < 2e-16 ***\n",
       "poly(medv, 3)1  -75.058      6.569 -11.426  < 2e-16 ***\n",
       "poly(medv, 3)2   88.086      6.569  13.409  < 2e-16 ***\n",
       "poly(medv, 3)3  -48.033      6.569  -7.312 1.05e-12 ***\n",
       "---\n",
       "Signif. codes:  0 '***' 0.001 '**' 0.01 '*' 0.05 '.' 0.1 ' ' 1\n",
       "\n",
       "Residual standard error: 6.569 on 502 degrees of freedom\n",
       "Multiple R-squared:  0.4202,\tAdjusted R-squared:  0.4167 \n",
       "F-statistic: 121.3 on 3 and 502 DF,  p-value: < 2.2e-16\n"
      ]
     },
     "metadata": {},
     "output_type": "display_data"
    }
   ],
   "source": [
    "lm.medv = lm(crim~poly(medv,3))\n",
    "summary(lm.medv) "
   ]
  }
 ],
 "metadata": {
  "kernelspec": {
   "display_name": "R",
   "language": "R",
   "name": "ir"
  },
  "language_info": {
   "codemirror_mode": "r",
   "file_extension": ".r",
   "mimetype": "text/x-r-source",
   "name": "R",
   "pygments_lexer": "r",
   "version": "3.6.1"
  }
 },
 "nbformat": 4,
 "nbformat_minor": 2
}
